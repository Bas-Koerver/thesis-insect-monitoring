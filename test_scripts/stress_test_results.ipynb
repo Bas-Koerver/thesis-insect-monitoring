{
 "cells": [
  {
   "cell_type": "code",
   "id": "initial_id",
   "metadata": {
    "collapsed": true,
    "ExecuteTime": {
     "end_time": "2025-08-28T14:02:04.575013Z",
     "start_time": "2025-08-28T14:02:04.303404Z"
    }
   },
   "source": [
    "import glob\n",
    "\n",
    "import pandas as pd\n",
    "import plotly.express as px\n",
    "import plotly.graph_objects as go\n",
    "from plotly.subplots import make_subplots"
   ],
   "outputs": [],
   "execution_count": 2
  },
  {
   "metadata": {
    "ExecuteTime": {
     "end_time": "2025-08-28T14:09:56.950173Z",
     "start_time": "2025-08-28T14:09:56.910384Z"
    }
   },
   "cell_type": "code",
   "source": [
    "\n",
    "from pathlib import Path\n",
    "import os\n",
    "\n",
    "dfs = {}\n",
    "min_max_values = {\n",
    "    \"external_fps\": {\"min\": float('inf'), \"max\": float('-inf')},\n",
    "    \"internal_fps\": {\"min\": float('inf'), \"max\": float('-inf')},\n",
    "    \"coreboard_temp\": {\"min\": float('inf'), \"max\": float('-inf')},\n",
    "    \"sensor_temp\": {\"min\": float('inf'), \"max\": float('-inf')},\n",
    "}\n",
    "for file in sorted(glob.glob(\"../test_data/basler_stress_test_*_sensortemp_*_cooling_*_*.csv\"), key=os.path.getsize):\n",
    "\n",
    "    df = pd.read_csv(file)\n",
    "\n",
    "    # store the absolute min and max values for each column.\n",
    "    min = df['external_fps'].min()\n",
    "    max = df['external_fps'].max()\n",
    "    if min < min_max_values['external_fps']['min']:\n",
    "        min_max_values['external_fps']['min'] = min\n",
    "    if max > min_max_values[\"external_fps\"]['max']:\n",
    "        min_max_values['external_fps']['max'] = max\n",
    "\n",
    "    min = df['internal_fps'].min()\n",
    "    max = df['internal_fps'].max()\n",
    "    if min < min_max_values['internal_fps']['min']:\n",
    "        min_max_values['internal_fps']['min'] = min\n",
    "    if max > min_max_values[\"internal_fps\"]['max']:\n",
    "        min_max_values['internal_fps']['max'] = max\n",
    "\n",
    "    min = df['coreboard_temp'].min()\n",
    "    max = df['coreboard_temp'].max()\n",
    "    if min < min_max_values['coreboard_temp']['min']:\n",
    "        min_max_values['coreboard_temp']['min'] = min\n",
    "    if max > min_max_values[\"coreboard_temp\"]['max']:\n",
    "        min_max_values['coreboard_temp']['max'] = max\n",
    "\n",
    "    min = df['sensor_temp'].min()\n",
    "    max = df['sensor_temp'].max()\n",
    "    if min < min_max_values['sensor_temp']['min']:\n",
    "        min_max_values['sensor_temp']['min'] = min\n",
    "    if max > min_max_values[\"sensor_temp\"]['max']:\n",
    "        min_max_values['sensor_temp']['max'] = max\n",
    "\n",
    "    dfs[Path(file).name] = df\n"
   ],
   "id": "18b8cfa435dd8186",
   "outputs": [],
   "execution_count": 24
  },
  {
   "metadata": {
    "ExecuteTime": {
     "end_time": "2025-08-28T14:09:57.743289Z",
     "start_time": "2025-08-28T14:09:57.739628Z"
    }
   },
   "cell_type": "code",
   "source": "min_max_values",
   "id": "938149252a760c5c",
   "outputs": [
    {
     "data": {
      "text/plain": [
       "{'external_fps': {'min': np.float64(145.7250741691826),\n",
       "  'max': np.float64(169.6132015531407)},\n",
       " 'internal_fps': {'min': np.float64(156.22070861713428),\n",
       "  'max': np.float64(168.79203976740456)},\n",
       " 'coreboard_temp': {'min': np.float64(42.93700000000001),\n",
       "  'max': np.float64(78.68700000000001)},\n",
       " 'sensor_temp': {'min': np.float64(49.32000000000005),\n",
       "  'max': np.float64(67.56)}}"
      ]
     },
     "execution_count": 25,
     "metadata": {},
     "output_type": "execute_result"
    }
   ],
   "execution_count": 25
  },
  {
   "metadata": {
    "ExecuteTime": {
     "end_time": "2025-08-28T14:16:26.819770Z",
     "start_time": "2025-08-28T14:16:26.814267Z"
    }
   },
   "cell_type": "code",
   "source": [
    "def make_plots(variable: str, sensor_data: bool, cooling: bool, default: str):\n",
    "    fig = make_subplots(rows=4, cols=2,\n",
    "                        subplot_titles=(\"10 seconds\", \"30 seconds\", \"60 seconds\", \"300 seconds\", \"600 seconds\",\n",
    "                                        \"1200 seconds\", \"1800 seconds\", \"3600 seconds\"), x_title=\"Time (s)\", y_title=variable)\n",
    "\n",
    "    fig.add_trace(\n",
    "        go.Scatter(x=dfs[f'basler_stress_test_10_sensortemp_{sensor_data}_cooling_{cooling}_{default}.csv']['time'],\n",
    "                   y=dfs[f'basler_stress_test_10_sensortemp_{sensor_data}_cooling_{cooling}_{default}.csv'][variable],\n",
    "                   name=\"10 s\", mode=\"markers\"), row=1, col=1)\n",
    "\n",
    "    fig.add_trace(\n",
    "        go.Scatter(x=dfs[f'basler_stress_test_30_sensortemp_{sensor_data}_cooling_{cooling}_{default}.csv']['time'],\n",
    "                   y=dfs[f'basler_stress_test_30_sensortemp_{sensor_data}_cooling_{cooling}_{default}.csv'][variable],\n",
    "                   name=\"30 s\", mode=\"markers\"), row=1, col=2)\n",
    "\n",
    "    fig.add_trace(\n",
    "        go.Scatter(x=dfs[f'basler_stress_test_60_sensortemp_{sensor_data}_cooling_{cooling}_{default}.csv']['time'],\n",
    "                   y=dfs[f'basler_stress_test_60_sensortemp_{sensor_data}_cooling_{cooling}_{default}.csv'][variable],\n",
    "                   name=\"60 s\", mode=\"markers\"), row=2, col=1)\n",
    "\n",
    "    fig.add_trace(\n",
    "        go.Scatter(x=dfs[f'basler_stress_test_300_sensortemp_{sensor_data}_cooling_{cooling}_{default}.csv']['time'],\n",
    "                   y=dfs[f'basler_stress_test_300_sensortemp_{sensor_data}_cooling_{cooling}_{default}.csv'][variable],\n",
    "                   name=\"300 s\", mode=\"markers\"), row=2, col=2)\n",
    "\n",
    "    fig.add_trace(\n",
    "        go.Scatter(x=dfs[f'basler_stress_test_600_sensortemp_{sensor_data}_cooling_{cooling}_{default}.csv']['time'],\n",
    "                   y=dfs[f'basler_stress_test_600_sensortemp_{sensor_data}_cooling_{cooling}_{default}.csv'][variable],\n",
    "                   name=\"600 s\", mode=\"markers\"), row=3, col=1)\n",
    "\n",
    "    fig.add_trace(\n",
    "        go.Scatter(x=dfs[f'basler_stress_test_1200_sensortemp_{sensor_data}_cooling_{cooling}_{default}.csv']['time'],\n",
    "                   y=dfs[f'basler_stress_test_1200_sensortemp_{sensor_data}_cooling_{cooling}_{default}.csv'][variable],\n",
    "                   name=\"1200 s\", mode=\"markers\"), row=3, col=2)\n",
    "\n",
    "    fig.add_trace(\n",
    "        go.Scatter(x=dfs[f'basler_stress_test_1800_sensortemp_{sensor_data}_cooling_{cooling}_{default}.csv']['time'],\n",
    "                   y=dfs[f'basler_stress_test_1800_sensortemp_{sensor_data}_cooling_{cooling}_{default}.csv'][variable],\n",
    "                   name=\"1800 s\", mode=\"markers\"), row=4, col=1)\n",
    "\n",
    "    fig.add_trace(\n",
    "        go.Scatter(x=dfs[f'basler_stress_test_3600_sensortemp_{sensor_data}_cooling_{cooling}_{default}.csv'][\"time\"],\n",
    "                   y=dfs[f'basler_stress_test_3600_sensortemp_{sensor_data}_cooling_{cooling}_{default}.csv'][variable],\n",
    "                   name=\"3600 s\", mode=\"markers\"), row=4, col=2)\n",
    "\n",
    "    fig.update_yaxes(range=[min_max_values[variable]['min'] - 1, min_max_values[variable]['max'] + 1])\n",
    "    fig.update_layout(showlegend=False,\n",
    "                      title_text=f\"{variable} over time for different stress test durations, with sensor data recorded: {sensor_data}\")\n",
    "\n",
    "    fig.show(renderer=\"browser\")\n",
    "    fig.show()"
   ],
   "id": "54f9aef30a1ed94f",
   "outputs": [],
   "execution_count": 37
  },
  {
   "metadata": {
    "jupyter": {
     "is_executing": true
    },
    "ExecuteTime": {
     "start_time": "2025-08-28T14:16:33.859851Z"
    }
   },
   "cell_type": "code",
   "source": [
    "make_plots(\"internal_fps\", False, False, \"CB\")\n",
    "make_plots(\"internal_fps\", True, False, \"CB\")\n",
    "make_plots(\"coreboard_temp\", False, False, \"CB\")\n",
    "make_plots(\"coreboard_temp\", True, False, \"CB\")\n",
    "make_plots(\"sensor_temp\", True, False, \"CB\")"
   ],
   "id": "a1538ad4aed17045",
   "outputs": [],
   "execution_count": null
  },
  {
   "metadata": {},
   "cell_type": "code",
   "outputs": [],
   "execution_count": null,
   "source": "",
   "id": "3dedca31f2557a5d"
  }
 ],
 "metadata": {
  "kernelspec": {
   "display_name": "Python 3",
   "language": "python",
   "name": "python3"
  },
  "language_info": {
   "codemirror_mode": {
    "name": "ipython",
    "version": 2
   },
   "file_extension": ".py",
   "mimetype": "text/x-python",
   "name": "python",
   "nbconvert_exporter": "python",
   "pygments_lexer": "ipython2",
   "version": "2.7.6"
  }
 },
 "nbformat": 4,
 "nbformat_minor": 5
}
