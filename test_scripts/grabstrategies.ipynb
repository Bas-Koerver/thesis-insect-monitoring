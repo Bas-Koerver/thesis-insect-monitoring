{
 "cells": [
  {
   "cell_type": "code",
   "metadata": {
    "tags": [],
    "ExecuteTime": {
     "end_time": "2025-08-26T19:25:26.190655Z",
     "start_time": "2025-08-26T19:25:26.188261Z"
    }
   },
   "source": [
    "import cv2\n",
    "import pypylon.pylon as py\n",
    "import numpy as np\n",
    "import matplotlib.pyplot as plt\n",
    "\n",
    "# handle exception trace for debugging \n",
    "# background loop\n",
    "import traceback\n",
    "\n",
    "import time\n",
    "import random"
   ],
   "outputs": [],
   "execution_count": 30
  },
  {
   "cell_type": "code",
   "metadata": {
    "jupyter": {
     "outputs_hidden": false
    },
    "ExecuteTime": {
     "end_time": "2025-08-26T19:25:27.461020Z",
     "start_time": "2025-08-26T19:25:26.683301Z"
    }
   },
   "source": [
    "cam = py.InstantCamera(py.TlFactory.GetInstance().CreateFirstDevice())\n",
    "cam.Open()\n",
    "\n",
    "# to get consistant results it is always good to start from \"power-on\" state\n",
    "cam.UserSetSelector.Value = \"Default\"\n",
    "cam.UserSetLoad.Execute()\n",
    "\n",
    "cam.ExposureTime.Value = cam.ExposureTime.Min"
   ],
   "outputs": [],
   "execution_count": 31
  },
  {
   "metadata": {
    "ExecuteTime": {
     "end_time": "2025-08-26T19:04:42.723182Z",
     "start_time": "2025-08-26T19:04:42.719702Z"
    }
   },
   "cell_type": "code",
   "source": "cam.ExposureTime.Min",
   "outputs": [
    {
     "data": {
      "text/plain": [
       "19.0"
      ]
     },
     "execution_count": 4,
     "metadata": {},
     "output_type": "execute_result"
    }
   ],
   "execution_count": 4
  },
  {
   "cell_type": "code",
   "metadata": {
    "ExecuteTime": {
     "end_time": "2025-08-26T19:04:43.024727Z",
     "start_time": "2025-08-26T19:04:43.021217Z"
    }
   },
   "source": [
    "# show expected framerate max framerate ( @ minimum exposure time)\n",
    "cam.ResultingFrameRate.Value"
   ],
   "outputs": [
    {
     "data": {
      "text/plain": [
       "156.25"
      ]
     },
     "execution_count": 5,
     "metadata": {},
     "output_type": "execute_result"
    }
   ],
   "execution_count": 5
  },
  {
   "cell_type": "code",
   "metadata": {
    "ExecuteTime": {
     "end_time": "2025-08-26T19:04:43.305358Z",
     "start_time": "2025-08-26T19:04:43.301985Z"
    }
   },
   "source": [
    "# this results in frame period in µs\n",
    "1 / cam.ResultingFrameRate.Value * 1e6"
   ],
   "outputs": [
    {
     "data": {
      "text/plain": [
       "6400.0"
      ]
     },
     "execution_count": 6,
     "metadata": {},
     "output_type": "execute_result"
    }
   ],
   "execution_count": 6
  },
  {
   "cell_type": "markdown",
   "metadata": {},
   "source": [
    "we now compare different pylon grab strategies and their resulting frameperiod to this minimum frameperiod"
   ]
  },
  {
   "cell_type": "markdown",
   "metadata": {},
   "source": [
    "# Grab scenarios"
   ]
  },
  {
   "cell_type": "markdown",
   "metadata": {},
   "source": [
    "## GrabOne Loop\n",
    "\n",
    "most simple style to grab"
   ]
  },
  {
   "cell_type": "code",
   "metadata": {
    "jupyter": {
     "outputs_hidden": false
    },
    "ExecuteTime": {
     "end_time": "2025-08-26T19:01:51.576845Z",
     "start_time": "2025-08-26T19:01:51.573841Z"
    }
   },
   "source": [
    "def GrabOneSample():\n",
    "    # fetch some images with foreground loop\n",
    "    img_sum = np.zeros((cam.Height.Value, cam.Width.Value), dtype=np.uint16)\n",
    "\n",
    "    for i in range(100):\n",
    "        with cam.GrabOne(1000) as res:\n",
    "            img = res.Array\n",
    "            img_sum += img\n",
    "    return img_sum"
   ],
   "outputs": [],
   "execution_count": 72
  },
  {
   "cell_type": "code",
   "metadata": {
    "jupyter": {
     "outputs_hidden": false
    }
   },
   "source": [
    "%%timeit -o\n",
    "GrabOneSample()"
   ],
   "outputs": [],
   "execution_count": null
  },
  {
   "cell_type": "code",
   "metadata": {
    "ExecuteTime": {
     "end_time": "2025-08-26T19:03:01.611438400Z",
     "start_time": "2025-08-26T17:58:47.205106Z"
    }
   },
   "source": [
    "grab_one_average = _.average / 100"
   ],
   "outputs": [],
   "execution_count": 16
  },
  {
   "cell_type": "code",
   "metadata": {
    "ExecuteTime": {
     "end_time": "2025-08-26T19:03:01.629946900Z",
     "start_time": "2025-08-26T17:59:11.316914Z"
    }
   },
   "source": "f\"time to capture one frame is: {grab_one_average*1e6:.2f} µs\"",
   "outputs": [
    {
     "data": {
      "text/plain": [
       "'time to capture one frame is: 151589.75 µs'"
      ]
     },
     "execution_count": 24,
     "metadata": {},
     "output_type": "execute_result"
    }
   ],
   "execution_count": 24
  },
  {
   "cell_type": "markdown",
   "metadata": {},
   "source": [
    "this is very easy to use, but will have the overhead of starting and stopping the grab engine for every frame"
   ]
  },
  {
   "cell_type": "markdown",
   "metadata": {},
   "source": [
    "## Foreground Loop\n",
    "\n",
    "move the start and stop of the grab engine out of the inner grab loop"
   ]
  },
  {
   "cell_type": "code",
   "metadata": {
    "jupyter": {
     "outputs_hidden": false
    },
    "ExecuteTime": {
     "end_time": "2025-08-26T19:04:50.455659Z",
     "start_time": "2025-08-26T19:04:50.452692Z"
    }
   },
   "source": [
    "def ForegroundLoopSample():\n",
    "    # fetch some images with foreground loop\n",
    "    img_sum = np.zeros((cam.Height.Value, cam.Width.Value), dtype=np.uint16)\n",
    "    cam.StartGrabbingMax(100)\n",
    "    while cam.IsGrabbing():\n",
    "        with cam.RetrieveResult(1000) as res:\n",
    "            if res.GrabSucceeded():\n",
    "                img = res.Array\n",
    "                img_sum += img\n",
    "            else:\n",
    "                raise RuntimeError(\"Grab failed\")\n",
    "    cam.StopGrabbing()\n",
    "    return img_sum"
   ],
   "outputs": [],
   "execution_count": 7
  },
  {
   "metadata": {
    "ExecuteTime": {
     "end_time": "2025-08-26T19:04:54.930826Z",
     "start_time": "2025-08-26T19:04:54.269073Z"
    }
   },
   "cell_type": "code",
   "source": "img_sum = ForegroundLoopSample()",
   "outputs": [],
   "execution_count": 10
  },
  {
   "metadata": {
    "ExecuteTime": {
     "end_time": "2025-08-26T19:10:23.736501Z",
     "start_time": "2025-08-26T19:10:23.732808Z"
    }
   },
   "cell_type": "code",
   "source": "",
   "outputs": [
    {
     "data": {
      "text/plain": [
       "(1920,)"
      ]
     },
     "execution_count": 13,
     "metadata": {},
     "output_type": "execute_result"
    }
   ],
   "execution_count": 13
  },
  {
   "metadata": {
    "ExecuteTime": {
     "end_time": "2025-08-26T19:05:03.991544Z",
     "start_time": "2025-08-26T19:05:03.976740Z"
    }
   },
   "cell_type": "code",
   "source": "import matplotlib.pyplot as plt\n",
   "outputs": [],
   "execution_count": 12
  },
  {
   "cell_type": "code",
   "metadata": {
    "jupyter": {
     "outputs_hidden": false
    },
    "ExecuteTime": {
     "end_time": "2025-08-26T18:06:47.658346Z",
     "start_time": "2025-08-26T18:06:42.006809Z"
    }
   },
   "source": [
    "%%timeit -o \n",
    "ForegroundLoopSample()"
   ],
   "outputs": [
    {
     "name": "stdout",
     "output_type": "stream",
     "text": [
      "713 ms ± 61.9 ms per loop (mean ± std. dev. of 7 runs, 1 loop each)\n"
     ]
    },
    {
     "data": {
      "text/plain": [
       "<TimeitResult : 713 ms ± 61.9 ms per loop (mean ± std. dev. of 7 runs, 1 loop each)>"
      ]
     },
     "execution_count": 26,
     "metadata": {},
     "output_type": "execute_result"
    }
   ],
   "execution_count": 26
  },
  {
   "cell_type": "code",
   "metadata": {
    "ExecuteTime": {
     "end_time": "2025-08-26T18:06:51.526081Z",
     "start_time": "2025-08-26T18:06:51.523677Z"
    }
   },
   "source": [
    "foreground_average = _.average / 100"
   ],
   "outputs": [],
   "execution_count": 27
  },
  {
   "cell_type": "code",
   "metadata": {
    "ExecuteTime": {
     "end_time": "2025-08-26T18:06:52.990906Z",
     "start_time": "2025-08-26T18:06:52.988009Z"
    }
   },
   "source": [
    "f\"average time to capture one frame is: {foreground_average*1e6:.2f} µs\""
   ],
   "outputs": [
    {
     "data": {
      "text/plain": [
       "'average time to capture one frame is: 7125.70 µs'"
      ]
     },
     "execution_count": 28,
     "metadata": {},
     "output_type": "execute_result"
    }
   ],
   "execution_count": 28
  },
  {
   "cell_type": "markdown",
   "metadata": {},
   "source": [
    "## Background loop\n",
    "\n",
    "* use this mode to communicate with the camera while the images are collected in the backgound.\n",
    "* Allows async communication"
   ]
  },
  {
   "cell_type": "markdown",
   "metadata": {},
   "source": [
    "Pylon uses classes with callback handler to let usercode communicate with the grab loop"
   ]
  },
  {
   "cell_type": "code",
   "metadata": {
    "jupyter": {
     "outputs_hidden": false
    },
    "ExecuteTime": {
     "end_time": "2025-08-26T18:07:34.607841Z",
     "start_time": "2025-08-26T18:07:34.604969Z"
    }
   },
   "source": [
    "class ImageHandler(py.ImageEventHandler):\n",
    "    def __init__(self):\n",
    "        super().__init__()\n",
    "        self.img_sum = np.zeros((cam.Height.Value, cam.Width.Value), dtype=np.uint16)\n",
    "        \n",
    "    def OnImageGrabbed(self, camera, grabResult):\n",
    "        \"\"\" we get called on every image\n",
    "            !! this code is run in a pylon thread context\n",
    "            always wrap your code in the try .. except to capture\n",
    "            errors inside the grabbing as this can't be properly reported from \n",
    "            the background thread to the foreground python code\n",
    "        \"\"\"\n",
    "        try:\n",
    "            if grabResult.GrabSucceeded():\n",
    "                # check image contents\n",
    "                img = grabResult.Array\n",
    "                self.img_sum += img\n",
    "            else:\n",
    "                raise RuntimeError(\"Grab Failed\")\n",
    "        except Exception as e:\n",
    "            traceback.print_exc()"
   ],
   "outputs": [],
   "execution_count": 29
  },
  {
   "cell_type": "code",
   "metadata": {
    "jupyter": {
     "outputs_hidden": false
    },
    "ExecuteTime": {
     "end_time": "2025-08-26T18:09:21.544223Z",
     "start_time": "2025-08-26T18:09:21.541790Z"
    }
   },
   "source": [
    "def BackGroundLoopSample():\n",
    "\n",
    "    # instantiate callback handler\n",
    "    handler = ImageHandler()\n",
    "    # register with the pylon loop\n",
    "    cam.RegisterImageEventHandler(handler , py.RegistrationMode_ReplaceAll, py.Cleanup_None)\n",
    "\n",
    "    # fetch some images with background loop\n",
    "    cam.StartGrabbingMax(100, py.GrabStrategy_LatestImages, py.GrabLoop_ProvidedByInstantCamera)\n",
    "    while cam.IsGrabbing():\n",
    "        # random exposuretime changes every 100ms\n",
    "        # cam.ExposureTime.Value = random.uniform(cam.ExposureTime.Min, 1000)\n",
    "        time.sleep(0.1)\n",
    "\n",
    "    cam.StopGrabbing()\n",
    "    cam.DeregisterImageEventHandler(handler)\n",
    "\n",
    "    return handler.img_sum"
   ],
   "outputs": [],
   "execution_count": 37
  },
  {
   "cell_type": "code",
   "metadata": {
    "jupyter": {
     "outputs_hidden": false
    },
    "scrolled": true,
    "ExecuteTime": {
     "end_time": "2025-08-26T18:09:27.774627Z",
     "start_time": "2025-08-26T18:09:22.085710Z"
    }
   },
   "source": [
    "%%timeit -o\n",
    "BackGroundLoopSample()"
   ],
   "outputs": [
    {
     "name": "stdout",
     "output_type": "stream",
     "text": [
      "711 ms ± 443 μs per loop (mean ± std. dev. of 7 runs, 1 loop each)\n"
     ]
    },
    {
     "data": {
      "text/plain": [
       "<TimeitResult : 711 ms ± 443 μs per loop (mean ± std. dev. of 7 runs, 1 loop each)>"
      ]
     },
     "execution_count": 38,
     "metadata": {},
     "output_type": "execute_result"
    }
   ],
   "execution_count": 38
  },
  {
   "cell_type": "code",
   "metadata": {
    "ExecuteTime": {
     "end_time": "2025-08-26T18:09:27.799437Z",
     "start_time": "2025-08-26T18:09:27.796774Z"
    }
   },
   "source": [
    "background_average = _.average / 100"
   ],
   "outputs": [],
   "execution_count": 40
  },
  {
   "cell_type": "code",
   "metadata": {
    "ExecuteTime": {
     "end_time": "2025-08-26T18:09:27.808131Z",
     "start_time": "2025-08-26T18:09:27.804939Z"
    }
   },
   "source": [
    "f\"average time to capture one frame is: {background_average*1e6:.2f} µs\""
   ],
   "outputs": [
    {
     "data": {
      "text/plain": [
       "'average time to capture one frame is: 7105.98 µs'"
      ]
     },
     "execution_count": 41,
     "metadata": {},
     "output_type": "execute_result"
    }
   ],
   "execution_count": 41
  },
  {
   "cell_type": "code",
   "execution_count": null,
   "metadata": {},
   "outputs": [],
   "source": [
    "cam.StopGrabbing()"
   ]
  },
  {
   "cell_type": "code",
   "metadata": {
    "ExecuteTime": {
     "end_time": "2025-08-27T18:50:42.169096Z",
     "start_time": "2025-08-27T18:50:42.146950Z"
    }
   },
   "source": "cam.Close()",
   "outputs": [],
   "execution_count": 9
  },
  {
   "cell_type": "code",
   "metadata": {
    "ExecuteTime": {
     "end_time": "2025-08-26T19:29:17.602632Z",
     "start_time": "2025-08-26T19:29:17.594653Z"
    }
   },
   "source": [
    "cam.DeviceTemperatureSelector.SetValue(\"Coreboard\")\n",
    "print(cam.DeviceTemperature.Value)\n",
    "cam.BslSensorOn.Execute()\n",
    "print(cam.BslSensorState.Value)\n",
    "cam.DeviceTemperatureSelector.SetValue(\"Sensor\")\n",
    "print(cam.DeviceTemperature.Value)\n",
    "cam.BslSensorStandby.Execute()\n",
    "print(cam.BslSensorState.Value)"
   ],
   "outputs": [
    {
     "name": "stdout",
     "output_type": "stream",
     "text": [
      "65.875\n",
      "On\n",
      "58.74400000000003\n",
      "Standby\n"
     ]
    }
   ],
   "execution_count": 56
  },
  {
   "metadata": {
    "ExecuteTime": {
     "end_time": "2025-08-26T19:25:33.297019Z",
     "start_time": "2025-08-26T19:25:33.291883Z"
    }
   },
   "cell_type": "code",
   "source": "",
   "outputs": [
    {
     "data": {
      "text/plain": [
       "67.25"
      ]
     },
     "execution_count": 38,
     "metadata": {},
     "output_type": "execute_result"
    }
   ],
   "execution_count": 38
  },
  {
   "metadata": {
    "ExecuteTime": {
     "end_time": "2025-08-26T18:32:22.041428Z",
     "start_time": "2025-08-26T18:32:22.038611Z"
    }
   },
   "cell_type": "code",
   "source": "time.time() * 1000000",
   "outputs": [
    {
     "data": {
      "text/plain": [
       "1756233142039616.0"
      ]
     },
     "execution_count": 66,
     "metadata": {},
     "output_type": "execute_result"
    }
   ],
   "execution_count": 66
  },
  {
   "metadata": {
    "ExecuteTime": {
     "end_time": "2025-08-26T20:21:46.295382Z",
     "start_time": "2025-08-26T20:21:46.292922Z"
    }
   },
   "cell_type": "code",
   "source": "",
   "outputs": [
    {
     "name": "stdout",
     "output_type": "stream",
     "text": [
      "50000\n"
     ]
    }
   ],
   "execution_count": 60
  },
  {
   "metadata": {
    "ExecuteTime": {
     "end_time": "2025-08-27T22:23:47.922336Z",
     "start_time": "2025-08-27T22:23:47.096890Z"
    }
   },
   "cell_type": "code",
   "source": [
    "from pypylon import pylon\n",
    "from pypylon import genicam\n",
    "import time\n",
    "\n",
    "import sys\n",
    "\n",
    "\n",
    "# Example of a device specific handler for image events.\n",
    "class SampleImageEventHandler(pylon.ImageEventHandler):\n",
    "    def OnImageGrabbed(self, camera, grabResult):\n",
    "        # The chunk data is attached to the grab result and can be accessed anywhere.\n",
    "\n",
    "        # Native parameter access:\n",
    "        # When using the device specific grab results the chunk data can be accessed\n",
    "        # via the members of the grab result data.\n",
    "        if genicam.IsReadable(grabResult.ChunkTimestamp):\n",
    "            print(\"OnImageGrabbed: TimeStamp (Result) accessed via result member: \", grabResult.ChunkTimestamp.Value)\n",
    "\n",
    "\n",
    "# Number of images to be grabbed.\n",
    "countOfImagesToGrab = 100\n",
    "\n",
    "# The exit code of the sample application.\n",
    "exitCode = 0\n",
    "\n",
    "try:\n",
    "    # Only look for cameras supported by Camera_t\n",
    "    info = pylon.DeviceInfo()\n",
    "    info.SetDeviceClass(\"BaslerUsb\")\n",
    "\n",
    "    # Create an instant camera object with the first found camera device that matches the specified device class.\n",
    "    camera = pylon.InstantCamera(pylon.TlFactory.GetInstance().CreateFirstDevice(info))\n",
    "    di = camera.GetDeviceInfo()\n",
    "    print(di.GetDeviceClass())\n",
    "\n",
    "    # Print the model name of the camera.\n",
    "    print(\"Using device \", camera.GetDeviceInfo().GetModelName())\n",
    "\n",
    "    # Register an image event handler that accesses the chunk data.\n",
    "    camera.RegisterImageEventHandler(SampleImageEventHandler(), pylon.RegistrationMode_Append, pylon.Cleanup_Delete)\n",
    "\n",
    "    # Open the camera.\n",
    "    camera.Open()\n",
    "\n",
    "    # A GenICam node map is required for accessing chunk data. That's why a small node map is required for each grab result.\n",
    "    # Creating a node map can be time consuming, because node maps are created by parsing an XML description file.\n",
    "    # The node maps are usually created dynamically when StartGrabbing() is called.\n",
    "    # To avoid a delay caused by node map creation in StartGrabbing() you have the option to create\n",
    "    # a static pool of node maps once before grabbing.\n",
    "    camera.StaticChunkNodeMapPoolSize.Value = camera.MaxNumBuffer.GetValue()\n",
    "\n",
    "    # Enable chunks in general.\n",
    "    if genicam.IsWritable(camera.ChunkModeActive):\n",
    "        camera.ChunkModeActive.Value = True\n",
    "    else:\n",
    "        raise pylon.RuntimeException(\"The camera doesn't support chunk features\")\n",
    "\n",
    "    # Enable time stamp chunks.\n",
    "    camera.ChunkSelector.Value = \"Timestamp\"\n",
    "    camera.ChunkEnable.Value = True\n",
    "\n",
    "    if not camera.IsUsb():\n",
    "        # Enable frame counter chunks.\n",
    "        camera.ChunkSelector.Value = \"Framecounter\"\n",
    "        camera.ChunkEnable.Value = True\n",
    "\n",
    "    # Enable CRC checksum chunks.\n",
    "    camera.ChunkSelector.Value = \"PayloadCRC16\"\n",
    "    camera.ChunkEnable.Value = True\n",
    "\n",
    "    # Start the grabbing of c_countOfImagesToGrab images.\n",
    "    # The camera device is parameterized with a default configuration which\n",
    "    # sets up free-running continuous acquisition.\n",
    "    # camera.StartGrabbingMax(countOfImagesToGrab)\n",
    "    camera.StartGrabbing(True)\n",
    "    ###------------------------------####\n",
    "    update_time = 1\n",
    "    frame_count = 0\n",
    "    start_time = time.time()\n",
    "    previous_time = time.time()\n",
    "\n",
    "    previous_time_2 = 0\n",
    "\n",
    "\n",
    "    counter = 0\n",
    "    # Camera.StopGrabbing() is called automatically by the RetrieveResult() method\n",
    "    # when c_countOfImagesToGrab images have been retrieved.\n",
    "    while camera.IsGrabbing():\n",
    "        counter += 1\n",
    "        print(counter)\n",
    "        # Wait for an image and then retrieve it. A timeout of 5000 ms is used.\n",
    "        # RetrieveResult calls the image event handler's OnImageGrabbed method.\n",
    "        grabResult = camera.RetrieveResult(5000, pylon.TimeoutHandling_ThrowException)\n",
    "        print(\"Grabbed \", grabResult.ChunkData.Value)\n",
    "\n",
    "        print(\"GrabSucceeded: \", grabResult.GrabSucceeded())\n",
    "\n",
    "        print(f\"fps cam {1 / ((grabResult.ChunkTimestamp.Value - previous_time_2) / 1000000000)}\")\n",
    "        previous_time_2 = grabResult.ChunkTimestamp.Value\n",
    "\n",
    "        frame_count += 1\n",
    "        TIME = time.time() - previous_time\n",
    "\n",
    "        if (TIME) >= update_time:\n",
    "            # Calculate the FPS value\n",
    "            FPS = frame_count / (TIME)\n",
    "            frame_count = 0\n",
    "            previous_time = time.time()\n",
    "            fps_disp = f\"FPS: {FPS:.2f}\"\n",
    "            print(fps_disp)\n",
    "\n",
    "        # The result data is automatically filled with received chunk data.\n",
    "        # (Note:  This is not the case when using the low-level API)\n",
    "        print(\"SizeX: \", grabResult.Width)\n",
    "        print(\"SizeY: \", grabResult.Height)\n",
    "        img = grabResult.GetArray()\n",
    "        print(\"Gray value of first pixel: \", img[0, 0])\n",
    "\n",
    "        # Check to see if a buffer containing chunk data has been received.\n",
    "        if pylon.PayloadType_ChunkData != grabResult.PayloadType:\n",
    "            raise pylon.RuntimeException(\"Unexpected payload type received.\")\n",
    "\n",
    "        # Since we have activated the CRC Checksum feature, we can check\n",
    "        # the integrity of the buffer first.\n",
    "        # Note: Enabling the CRC Checksum feature is not a prerequisite for using\n",
    "        # chunks. Chunks can also be handled when the CRC Checksum feature is deactivated.\n",
    "        if grabResult.HasCRC() and grabResult.CheckCRC() == False:\n",
    "            raise pylon.RuntimeException(\"Image was damaged!\")\n",
    "\n",
    "        # Access the chunk data attached to the result.\n",
    "        # Before accessing the chunk data, you should check to see\n",
    "        # if the chunk is readable. When it is readable, the buffer\n",
    "        # contains the requested chunk data.\n",
    "        if genicam.IsReadable(grabResult.ChunkTimestamp):\n",
    "            print(\"TimeStamp (Result): \", grabResult.ChunkTimestamp.Value)\n",
    "            print(time.time())\n",
    "\n",
    "        # USB camera devices provide generic counters. An explicit FrameCounter value is not provided by USB camera devices.\n",
    "        if not camera.IsUsb():\n",
    "            if genicam.IsReadable(grabResult.ChunkFramecounter):\n",
    "                print(\"FrameCounter (Result): \", grabResult.ChunkFramecounter.Value)\n",
    "        print()\n",
    "\n",
    "    # Disable chunk mode.\n",
    "    camera.ChunkModeActive.Value = False\n",
    "    camera.Close()\n",
    "\n",
    "except genicam.GenericException as e:\n",
    "    # Error handling.\n",
    "    print(\"An exception occurred.\", e)\n",
    "    exitCode = 1"
   ],
   "outputs": [
    {
     "name": "stdout",
     "output_type": "stream",
     "text": [
      "BaslerUsb\n",
      "Using device  a2A1920-160ucPRO\n",
      "1\n",
      "OnImageGrabbed: TimeStamp (Result) accessed via result member:  5367768568550\n"
     ]
    },
    {
     "ename": "AttributeError",
     "evalue": "no attribute 'ChunkData' in GrabResult",
     "output_type": "error",
     "traceback": [
      "\u001B[31m---------------------------------------------------------------------------\u001B[39m",
      "\u001B[31mAttributeError\u001B[39m                            Traceback (most recent call last)",
      "\u001B[36mCell\u001B[39m\u001B[36m \u001B[39m\u001B[32mIn[1]\u001B[39m\u001B[32m, line 94\u001B[39m\n\u001B[32m     91\u001B[39m \u001B[38;5;66;03m# Wait for an image and then retrieve it. A timeout of 5000 ms is used.\u001B[39;00m\n\u001B[32m     92\u001B[39m \u001B[38;5;66;03m# RetrieveResult calls the image event handler's OnImageGrabbed method.\u001B[39;00m\n\u001B[32m     93\u001B[39m grabResult = camera.RetrieveResult(\u001B[32m5000\u001B[39m, pylon.TimeoutHandling_ThrowException)\n\u001B[32m---> \u001B[39m\u001B[32m94\u001B[39m \u001B[38;5;28mprint\u001B[39m(\u001B[33m\"\u001B[39m\u001B[33mGrabbed \u001B[39m\u001B[33m\"\u001B[39m, \u001B[43mgrabResult\u001B[49m\u001B[43m.\u001B[49m\u001B[43mChunkData\u001B[49m.Value)\n\u001B[32m     96\u001B[39m \u001B[38;5;28mprint\u001B[39m(\u001B[33m\"\u001B[39m\u001B[33mGrabSucceeded: \u001B[39m\u001B[33m\"\u001B[39m, grabResult.GrabSucceeded())\n\u001B[32m     98\u001B[39m \u001B[38;5;28mprint\u001B[39m(\u001B[33mf\u001B[39m\u001B[33m\"\u001B[39m\u001B[33mfps cam \u001B[39m\u001B[38;5;132;01m{\u001B[39;00m\u001B[32m1\u001B[39m\u001B[38;5;250m \u001B[39m/\u001B[38;5;250m \u001B[39m((grabResult.ChunkTimestamp.Value\u001B[38;5;250m \u001B[39m-\u001B[38;5;250m \u001B[39mprevious_time_2)\u001B[38;5;250m \u001B[39m/\u001B[38;5;250m \u001B[39m\u001B[32m1000000000\u001B[39m)\u001B[38;5;132;01m}\u001B[39;00m\u001B[33m\"\u001B[39m)\n",
      "\u001B[36mFile \u001B[39m\u001B[32m~\\source\\repos\\thesis-insect-monitoring\\.venv\\Lib\\site-packages\\pypylon\\pylon.py:2311\u001B[39m, in \u001B[36mGrabResult.__getattr__\u001B[39m\u001B[34m(self, attribute)\u001B[39m\n\u001B[32m   2308\u001B[39m             \u001B[38;5;28;01mpass\u001B[39;00m\n\u001B[32m   2310\u001B[39m \u001B[38;5;66;03m# Nothing found -> Raise AttributeError\u001B[39;00m\n\u001B[32m-> \u001B[39m\u001B[32m2311\u001B[39m     \u001B[38;5;28;01mraise\u001B[39;00m \u001B[38;5;167;01mAttributeError\u001B[39;00m(\u001B[33m\"\u001B[39m\u001B[33mno attribute \u001B[39m\u001B[33m'\u001B[39m\u001B[38;5;132;01m%s\u001B[39;00m\u001B[33m'\u001B[39m\u001B[33m in GrabResult\u001B[39m\u001B[33m\"\u001B[39m % attribute)\n",
      "\u001B[31mAttributeError\u001B[39m: no attribute 'ChunkData' in GrabResult"
     ]
    }
   ],
   "execution_count": 1
  }
 ],
 "metadata": {
  "kernelspec": {
   "display_name": "Python 3",
   "language": "python",
   "name": "python3"
  },
  "language_info": {
   "codemirror_mode": {
    "name": "ipython",
    "version": 3
   },
   "file_extension": ".py",
   "mimetype": "text/x-python",
   "name": "python",
   "nbconvert_exporter": "python",
   "pygments_lexer": "ipython3",
   "version": "3.8.7"
  }
 },
 "nbformat": 4,
 "nbformat_minor": 4
}
