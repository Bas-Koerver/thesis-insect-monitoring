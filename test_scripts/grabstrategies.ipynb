{
 "cells": [
  {
   "cell_type": "code",
   "metadata": {
    "tags": [],
    "ExecuteTime": {
     "end_time": "2025-08-26T19:25:26.190655Z",
     "start_time": "2025-08-26T19:25:26.188261Z"
    }
   },
   "source": [
    "import cv2\n",
    "import pypylon.pylon as py\n",
    "import numpy as np\n",
    "import matplotlib.pyplot as plt\n",
    "\n",
    "# handle exception trace for debugging \n",
    "# background loop\n",
    "import traceback\n",
    "\n",
    "import time\n",
    "import random"
   ],
   "outputs": [],
   "execution_count": 30
  },
  {
   "cell_type": "code",
   "metadata": {
    "jupyter": {
     "outputs_hidden": false
    },
    "ExecuteTime": {
     "end_time": "2025-08-26T19:25:27.461020Z",
     "start_time": "2025-08-26T19:25:26.683301Z"
    }
   },
   "source": [
    "cam = py.InstantCamera(py.TlFactory.GetInstance().CreateFirstDevice())\n",
    "cam.Open()\n",
    "\n",
    "# to get consistant results it is always good to start from \"power-on\" state\n",
    "cam.UserSetSelector.Value = \"Default\"\n",
    "cam.UserSetLoad.Execute()\n",
    "\n",
    "cam.ExposureTime.Value = cam.ExposureTime.Min"
   ],
   "outputs": [],
   "execution_count": 31
  },
  {
   "metadata": {
    "ExecuteTime": {
     "end_time": "2025-08-26T19:04:42.723182Z",
     "start_time": "2025-08-26T19:04:42.719702Z"
    }
   },
   "cell_type": "code",
   "source": "cam.ExposureTime.Min",
   "outputs": [
    {
     "data": {
      "text/plain": [
       "19.0"
      ]
     },
     "execution_count": 4,
     "metadata": {},
     "output_type": "execute_result"
    }
   ],
   "execution_count": 4
  },
  {
   "cell_type": "code",
   "metadata": {
    "ExecuteTime": {
     "end_time": "2025-08-26T19:04:43.024727Z",
     "start_time": "2025-08-26T19:04:43.021217Z"
    }
   },
   "source": [
    "# show expected framerate max framerate ( @ minimum exposure time)\n",
    "cam.ResultingFrameRate.Value"
   ],
   "outputs": [
    {
     "data": {
      "text/plain": [
       "156.25"
      ]
     },
     "execution_count": 5,
     "metadata": {},
     "output_type": "execute_result"
    }
   ],
   "execution_count": 5
  },
  {
   "cell_type": "code",
   "metadata": {
    "ExecuteTime": {
     "end_time": "2025-08-26T19:04:43.305358Z",
     "start_time": "2025-08-26T19:04:43.301985Z"
    }
   },
   "source": [
    "# this results in frame period in µs\n",
    "1 / cam.ResultingFrameRate.Value * 1e6"
   ],
   "outputs": [
    {
     "data": {
      "text/plain": [
       "6400.0"
      ]
     },
     "execution_count": 6,
     "metadata": {},
     "output_type": "execute_result"
    }
   ],
   "execution_count": 6
  },
  {
   "cell_type": "markdown",
   "metadata": {},
   "source": [
    "we now compare different pylon grab strategies and their resulting frameperiod to this minimum frameperiod"
   ]
  },
  {
   "cell_type": "markdown",
   "metadata": {},
   "source": [
    "# Grab scenarios"
   ]
  },
  {
   "cell_type": "markdown",
   "metadata": {},
   "source": [
    "## GrabOne Loop\n",
    "\n",
    "most simple style to grab"
   ]
  },
  {
   "cell_type": "code",
   "metadata": {
    "jupyter": {
     "outputs_hidden": false
    },
    "ExecuteTime": {
     "end_time": "2025-08-26T19:01:51.576845Z",
     "start_time": "2025-08-26T19:01:51.573841Z"
    }
   },
   "source": [
    "def GrabOneSample():\n",
    "    # fetch some images with foreground loop\n",
    "    img_sum = np.zeros((cam.Height.Value, cam.Width.Value), dtype=np.uint16)\n",
    "\n",
    "    for i in range(100):\n",
    "        with cam.GrabOne(1000) as res:\n",
    "            img = res.Array\n",
    "            img_sum += img\n",
    "    return img_sum"
   ],
   "outputs": [],
   "execution_count": 72
  },
  {
   "cell_type": "code",
   "metadata": {
    "jupyter": {
     "outputs_hidden": false
    }
   },
   "source": [
    "%%timeit -o\n",
    "GrabOneSample()"
   ],
   "outputs": [],
   "execution_count": null
  },
  {
   "cell_type": "code",
   "metadata": {
    "ExecuteTime": {
     "end_time": "2025-08-26T19:03:01.611438400Z",
     "start_time": "2025-08-26T17:58:47.205106Z"
    }
   },
   "source": [
    "grab_one_average = _.average / 100"
   ],
   "outputs": [],
   "execution_count": 16
  },
  {
   "cell_type": "code",
   "metadata": {
    "ExecuteTime": {
     "end_time": "2025-08-26T19:03:01.629946900Z",
     "start_time": "2025-08-26T17:59:11.316914Z"
    }
   },
   "source": "f\"time to capture one frame is: {grab_one_average*1e6:.2f} µs\"",
   "outputs": [
    {
     "data": {
      "text/plain": [
       "'time to capture one frame is: 151589.75 µs'"
      ]
     },
     "execution_count": 24,
     "metadata": {},
     "output_type": "execute_result"
    }
   ],
   "execution_count": 24
  },
  {
   "cell_type": "markdown",
   "metadata": {},
   "source": [
    "this is very easy to use, but will have the overhead of starting and stopping the grab engine for every frame"
   ]
  },
  {
   "cell_type": "markdown",
   "metadata": {},
   "source": [
    "## Foreground Loop\n",
    "\n",
    "move the start and stop of the grab engine out of the inner grab loop"
   ]
  },
  {
   "cell_type": "code",
   "metadata": {
    "jupyter": {
     "outputs_hidden": false
    },
    "ExecuteTime": {
     "end_time": "2025-08-26T19:04:50.455659Z",
     "start_time": "2025-08-26T19:04:50.452692Z"
    }
   },
   "source": [
    "def ForegroundLoopSample():\n",
    "    # fetch some images with foreground loop\n",
    "    img_sum = np.zeros((cam.Height.Value, cam.Width.Value), dtype=np.uint16)\n",
    "    cam.StartGrabbingMax(100)\n",
    "    while cam.IsGrabbing():\n",
    "        with cam.RetrieveResult(1000) as res:\n",
    "            if res.GrabSucceeded():\n",
    "                img = res.Array\n",
    "                img_sum += img\n",
    "            else:\n",
    "                raise RuntimeError(\"Grab failed\")\n",
    "    cam.StopGrabbing()\n",
    "    return img_sum"
   ],
   "outputs": [],
   "execution_count": 7
  },
  {
   "metadata": {
    "ExecuteTime": {
     "end_time": "2025-08-26T19:04:54.930826Z",
     "start_time": "2025-08-26T19:04:54.269073Z"
    }
   },
   "cell_type": "code",
   "source": "img_sum = ForegroundLoopSample()",
   "outputs": [],
   "execution_count": 10
  },
  {
   "metadata": {
    "ExecuteTime": {
     "end_time": "2025-08-26T19:10:23.736501Z",
     "start_time": "2025-08-26T19:10:23.732808Z"
    }
   },
   "cell_type": "code",
   "source": "",
   "outputs": [
    {
     "data": {
      "text/plain": [
       "(1920,)"
      ]
     },
     "execution_count": 13,
     "metadata": {},
     "output_type": "execute_result"
    }
   ],
   "execution_count": 13
  },
  {
   "metadata": {
    "ExecuteTime": {
     "end_time": "2025-08-26T19:05:03.991544Z",
     "start_time": "2025-08-26T19:05:03.976740Z"
    }
   },
   "cell_type": "code",
   "source": "import matplotlib.pyplot as plt\n",
   "outputs": [],
   "execution_count": 12
  },
  {
   "cell_type": "code",
   "metadata": {
    "jupyter": {
     "outputs_hidden": false
    },
    "ExecuteTime": {
     "end_time": "2025-08-26T18:06:47.658346Z",
     "start_time": "2025-08-26T18:06:42.006809Z"
    }
   },
   "source": [
    "%%timeit -o \n",
    "ForegroundLoopSample()"
   ],
   "outputs": [
    {
     "name": "stdout",
     "output_type": "stream",
     "text": [
      "713 ms ± 61.9 ms per loop (mean ± std. dev. of 7 runs, 1 loop each)\n"
     ]
    },
    {
     "data": {
      "text/plain": [
       "<TimeitResult : 713 ms ± 61.9 ms per loop (mean ± std. dev. of 7 runs, 1 loop each)>"
      ]
     },
     "execution_count": 26,
     "metadata": {},
     "output_type": "execute_result"
    }
   ],
   "execution_count": 26
  },
  {
   "cell_type": "code",
   "metadata": {
    "ExecuteTime": {
     "end_time": "2025-08-26T18:06:51.526081Z",
     "start_time": "2025-08-26T18:06:51.523677Z"
    }
   },
   "source": [
    "foreground_average = _.average / 100"
   ],
   "outputs": [],
   "execution_count": 27
  },
  {
   "cell_type": "code",
   "metadata": {
    "ExecuteTime": {
     "end_time": "2025-08-26T18:06:52.990906Z",
     "start_time": "2025-08-26T18:06:52.988009Z"
    }
   },
   "source": [
    "f\"average time to capture one frame is: {foreground_average*1e6:.2f} µs\""
   ],
   "outputs": [
    {
     "data": {
      "text/plain": [
       "'average time to capture one frame is: 7125.70 µs'"
      ]
     },
     "execution_count": 28,
     "metadata": {},
     "output_type": "execute_result"
    }
   ],
   "execution_count": 28
  },
  {
   "cell_type": "markdown",
   "metadata": {},
   "source": [
    "## Background loop\n",
    "\n",
    "* use this mode to communicate with the camera while the images are collected in the backgound.\n",
    "* Allows async communication"
   ]
  },
  {
   "cell_type": "markdown",
   "metadata": {},
   "source": [
    "Pylon uses classes with callback handler to let usercode communicate with the grab loop"
   ]
  },
  {
   "cell_type": "code",
   "metadata": {
    "jupyter": {
     "outputs_hidden": false
    },
    "ExecuteTime": {
     "end_time": "2025-08-26T18:07:34.607841Z",
     "start_time": "2025-08-26T18:07:34.604969Z"
    }
   },
   "source": [
    "class ImageHandler(py.ImageEventHandler):\n",
    "    def __init__(self):\n",
    "        super().__init__()\n",
    "        self.img_sum = np.zeros((cam.Height.Value, cam.Width.Value), dtype=np.uint16)\n",
    "        \n",
    "    def OnImageGrabbed(self, camera, grabResult):\n",
    "        \"\"\" we get called on every image\n",
    "            !! this code is run in a pylon thread context\n",
    "            always wrap your code in the try .. except to capture\n",
    "            errors inside the grabbing as this can't be properly reported from \n",
    "            the background thread to the foreground python code\n",
    "        \"\"\"\n",
    "        try:\n",
    "            if grabResult.GrabSucceeded():\n",
    "                # check image contents\n",
    "                img = grabResult.Array\n",
    "                self.img_sum += img\n",
    "            else:\n",
    "                raise RuntimeError(\"Grab Failed\")\n",
    "        except Exception as e:\n",
    "            traceback.print_exc()"
   ],
   "outputs": [],
   "execution_count": 29
  },
  {
   "cell_type": "code",
   "metadata": {
    "jupyter": {
     "outputs_hidden": false
    },
    "ExecuteTime": {
     "end_time": "2025-08-26T18:09:21.544223Z",
     "start_time": "2025-08-26T18:09:21.541790Z"
    }
   },
   "source": [
    "def BackGroundLoopSample():\n",
    "\n",
    "    # instantiate callback handler\n",
    "    handler = ImageHandler()\n",
    "    # register with the pylon loop\n",
    "    cam.RegisterImageEventHandler(handler , py.RegistrationMode_ReplaceAll, py.Cleanup_None)\n",
    "\n",
    "    # fetch some images with background loop\n",
    "    cam.StartGrabbingMax(100, py.GrabStrategy_LatestImages, py.GrabLoop_ProvidedByInstantCamera)\n",
    "    while cam.IsGrabbing():\n",
    "        # random exposuretime changes every 100ms\n",
    "        # cam.ExposureTime.Value = random.uniform(cam.ExposureTime.Min, 1000)\n",
    "        time.sleep(0.1)\n",
    "\n",
    "    cam.StopGrabbing()\n",
    "    cam.DeregisterImageEventHandler(handler)\n",
    "\n",
    "    return handler.img_sum"
   ],
   "outputs": [],
   "execution_count": 37
  },
  {
   "cell_type": "code",
   "metadata": {
    "jupyter": {
     "outputs_hidden": false
    },
    "scrolled": true,
    "ExecuteTime": {
     "end_time": "2025-08-26T18:09:27.774627Z",
     "start_time": "2025-08-26T18:09:22.085710Z"
    }
   },
   "source": [
    "%%timeit -o\n",
    "BackGroundLoopSample()"
   ],
   "outputs": [
    {
     "name": "stdout",
     "output_type": "stream",
     "text": [
      "711 ms ± 443 μs per loop (mean ± std. dev. of 7 runs, 1 loop each)\n"
     ]
    },
    {
     "data": {
      "text/plain": [
       "<TimeitResult : 711 ms ± 443 μs per loop (mean ± std. dev. of 7 runs, 1 loop each)>"
      ]
     },
     "execution_count": 38,
     "metadata": {},
     "output_type": "execute_result"
    }
   ],
   "execution_count": 38
  },
  {
   "cell_type": "code",
   "metadata": {
    "ExecuteTime": {
     "end_time": "2025-08-26T18:09:27.799437Z",
     "start_time": "2025-08-26T18:09:27.796774Z"
    }
   },
   "source": [
    "background_average = _.average / 100"
   ],
   "outputs": [],
   "execution_count": 40
  },
  {
   "cell_type": "code",
   "metadata": {
    "ExecuteTime": {
     "end_time": "2025-08-26T18:09:27.808131Z",
     "start_time": "2025-08-26T18:09:27.804939Z"
    }
   },
   "source": [
    "f\"average time to capture one frame is: {background_average*1e6:.2f} µs\""
   ],
   "outputs": [
    {
     "data": {
      "text/plain": [
       "'average time to capture one frame is: 7105.98 µs'"
      ]
     },
     "execution_count": 41,
     "metadata": {},
     "output_type": "execute_result"
    }
   ],
   "execution_count": 41
  },
  {
   "cell_type": "code",
   "execution_count": null,
   "metadata": {},
   "outputs": [],
   "source": [
    "cam.StopGrabbing()"
   ]
  },
  {
   "cell_type": "code",
   "metadata": {
    "ExecuteTime": {
     "end_time": "2025-08-27T18:50:42.169096Z",
     "start_time": "2025-08-27T18:50:42.146950Z"
    }
   },
   "source": "cam.Close()",
   "outputs": [],
   "execution_count": 9
  },
  {
   "cell_type": "code",
   "metadata": {
    "ExecuteTime": {
     "end_time": "2025-08-26T19:29:17.602632Z",
     "start_time": "2025-08-26T19:29:17.594653Z"
    }
   },
   "source": [
    "cam.DeviceTemperatureSelector.SetValue(\"Coreboard\")\n",
    "print(cam.DeviceTemperature.Value)\n",
    "cam.BslSensorOn.Execute()\n",
    "print(cam.BslSensorState.Value)\n",
    "cam.DeviceTemperatureSelector.SetValue(\"Sensor\")\n",
    "print(cam.DeviceTemperature.Value)\n",
    "cam.BslSensorStandby.Execute()\n",
    "print(cam.BslSensorState.Value)"
   ],
   "outputs": [
    {
     "name": "stdout",
     "output_type": "stream",
     "text": [
      "65.875\n",
      "On\n",
      "58.74400000000003\n",
      "Standby\n"
     ]
    }
   ],
   "execution_count": 56
  },
  {
   "metadata": {
    "ExecuteTime": {
     "end_time": "2025-08-26T19:25:33.297019Z",
     "start_time": "2025-08-26T19:25:33.291883Z"
    }
   },
   "cell_type": "code",
   "source": "",
   "outputs": [
    {
     "data": {
      "text/plain": [
       "67.25"
      ]
     },
     "execution_count": 38,
     "metadata": {},
     "output_type": "execute_result"
    }
   ],
   "execution_count": 38
  },
  {
   "metadata": {
    "ExecuteTime": {
     "end_time": "2025-08-26T18:32:22.041428Z",
     "start_time": "2025-08-26T18:32:22.038611Z"
    }
   },
   "cell_type": "code",
   "source": "time.time() * 1000000",
   "outputs": [
    {
     "data": {
      "text/plain": [
       "1756233142039616.0"
      ]
     },
     "execution_count": 66,
     "metadata": {},
     "output_type": "execute_result"
    }
   ],
   "execution_count": 66
  },
  {
   "metadata": {
    "ExecuteTime": {
     "end_time": "2025-08-26T20:21:46.295382Z",
     "start_time": "2025-08-26T20:21:46.292922Z"
    }
   },
   "cell_type": "code",
   "source": "",
   "outputs": [
    {
     "name": "stdout",
     "output_type": "stream",
     "text": [
      "50000\n"
     ]
    }
   ],
   "execution_count": 60
  }
 ],
 "metadata": {
  "kernelspec": {
   "display_name": "Python 3",
   "language": "python",
   "name": "python3"
  },
  "language_info": {
   "codemirror_mode": {
    "name": "ipython",
    "version": 3
   },
   "file_extension": ".py",
   "mimetype": "text/x-python",
   "name": "python",
   "nbconvert_exporter": "python",
   "pygments_lexer": "ipython3",
   "version": "3.8.7"
  }
 },
 "nbformat": 4,
 "nbformat_minor": 4
}
