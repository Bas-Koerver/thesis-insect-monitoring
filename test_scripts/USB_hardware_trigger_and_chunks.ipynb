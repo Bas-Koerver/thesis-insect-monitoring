{
 "cells": [
  {
   "cell_type": "code",
   "id": "internal-beijing",
   "metadata": {
    "ExecuteTime": {
     "end_time": "2025-08-29T13:22:05.638613Z",
     "start_time": "2025-08-29T13:22:05.636616Z"
    }
   },
   "source": [
    "import pypylon.pylon as py\n",
    "import pypylon.genicam as geni\n",
    "import matplotlib.pyplot as plt\n",
    "import numpy as np\n",
    "import cv2\n",
    "import time\n",
    "import pandas as pd"
   ],
   "outputs": [],
   "execution_count": 28
  },
  {
   "cell_type": "markdown",
   "id": "useful-robin",
   "metadata": {},
   "source": [
    "# Hardware triggering Basler ace acA1920-155uc"
   ]
  },
  {
   "cell_type": "markdown",
   "id": "liberal-emission",
   "metadata": {},
   "source": [
    "<div>\n",
    "<img src=\"attachment:image-2.png\" align=\"center\" width=\"500\"/>\n",
    "</div>"
   ]
  },
  {
   "cell_type": "markdown",
   "id": "outside-witness",
   "metadata": {},
   "source": [
    "The HW trigger unit is a simple RasperryPi generating 5Hz Signal on it's GPIO"
   ]
  },
  {
   "cell_type": "code",
   "id": "crude-tsunami",
   "metadata": {
    "ExecuteTime": {
     "end_time": "2025-08-29T13:22:06.982319Z",
     "start_time": "2025-08-29T13:22:06.275483Z"
    }
   },
   "source": [
    "# open the camera\n",
    "tlf = py.TlFactory.GetInstance()\n",
    "cam = py.InstantCamera(tlf.CreateFirstDevice())\n",
    "cam.Open()"
   ],
   "outputs": [],
   "execution_count": 29
  },
  {
   "cell_type": "markdown",
   "id": "secret-crest",
   "metadata": {},
   "source": [
    "# first quick check of our input signal\n",
    "\n",
    "* most Basler cameras have chunk feature ( image meta-data transport)\n",
    "* one of the chunks is 'LineStatusAll' \n",
    "* that samples all IO lines on FrameStart"
   ]
  },
  {
   "cell_type": "code",
   "id": "champion-apache",
   "metadata": {
    "ExecuteTime": {
     "end_time": "2025-08-29T13:22:06.993867Z",
     "start_time": "2025-08-29T13:22:06.991903Z"
    }
   },
   "source": [
    "# sample the io state with max possible framerate and chunks"
   ],
   "outputs": [],
   "execution_count": 30
  },
  {
   "cell_type": "code",
   "id": "promotional-family",
   "metadata": {
    "ExecuteTime": {
     "end_time": "2025-08-29T13:22:07.768427Z",
     "start_time": "2025-08-29T13:22:07.763116Z"
    }
   },
   "source": [
    "# enable the chunk that\n",
    "# samples all IO lines on every FrameStart\n",
    "cam.ChunkModeActive.Value = True\n",
    "cam.ChunkSelector.Value = \"LineStatusAll\"\n",
    "cam.ChunkEnable.Value = True"
   ],
   "outputs": [],
   "execution_count": 31
  },
  {
   "cell_type": "code",
   "id": "swedish-cover",
   "metadata": {
    "ExecuteTime": {
     "end_time": "2025-08-29T13:22:08.118492Z",
     "start_time": "2025-08-29T13:22:08.115490Z"
    }
   },
   "source": [
    "cam.ChunkSelector.Symbolics"
   ],
   "outputs": [
    {
     "data": {
      "text/plain": [
       "('AutoBrightnessStatus',\n",
       " 'CounterValue',\n",
       " 'ExposureTime',\n",
       " 'FrameID',\n",
       " 'Gain',\n",
       " 'LineStatusAll',\n",
       " 'PayloadCRC16',\n",
       " 'SequencerSetActive',\n",
       " 'Timestamp')"
      ]
     },
     "execution_count": 32,
     "metadata": {},
     "output_type": "execute_result"
    }
   ],
   "execution_count": 32
  },
  {
   "metadata": {
    "ExecuteTime": {
     "end_time": "2025-08-29T13:22:08.944786Z",
     "start_time": "2025-08-29T13:22:08.940421Z"
    }
   },
   "cell_type": "code",
   "source": [
    "# Select Line 2 (output line)\n",
    "cam.LineSelector.Value = \"Line2\"\n",
    "cam.LineMode.Value = \"Output\"\n",
    "# Select the Exposure Active signal as the source signal for Line 2\n",
    "cam.LineSource.Value = \"ExposureActive\"\n",
    "\n",
    "# Select GPIO line 3\n",
    "cam.LineSelector.Value = \"Line3\"\n",
    "# Set the line mode to Input\n",
    "cam.LineMode.Value = \"Input\""
   ],
   "id": "3d8afb64d84988e3",
   "outputs": [],
   "execution_count": 33
  },
  {
   "cell_type": "code",
   "id": "quick-fundamental",
   "metadata": {
    "ExecuteTime": {
     "end_time": "2025-08-29T13:23:10.831998Z",
     "start_time": "2025-08-29T13:23:09.803117Z"
    }
   },
   "source": [
    "# set max speed\n",
    "cam.Height = cam.Height.Min\n",
    "cam.Width = cam.Width.Min\n",
    "cam.ExposureTime = cam.ExposureTime.Min\n",
    "\n",
    "# limit to 1khz\n",
    "cam.AcquisitionFrameRateEnable = True\n",
    "cam.AcquisitionFrameRate = 1000\n",
    "\n",
    "print( cam.ResultingFrameRate.Value)\n",
    "cam.StartGrabbingMax(1000)\n",
    "\n",
    "io_res = []\n",
    "while cam.IsGrabbing():\n",
    "    with cam.RetrieveResult(1000) as res:\n",
    "        time_stamp = res.TimeStamp\n",
    "        io_res.append((time_stamp, res.ChunkLineStatusAll.Value))\n",
    "        \n",
    "cam.StopGrabbing()\n"
   ],
   "outputs": [
    {
     "name": "stderr",
     "output_type": "stream",
     "text": [
      "C:\\Users\\Bas_K\\AppData\\Local\\Temp\\ipykernel_39296\\3781184220.py:2: DeprecationWarning: Setting a feature value by direct assignment is deprecated. Use <nodemap>.Height.Value = 2\n",
      "  cam.Height = cam.Height.Min\n",
      "C:\\Users\\Bas_K\\AppData\\Local\\Temp\\ipykernel_39296\\3781184220.py:3: DeprecationWarning: Setting a feature value by direct assignment is deprecated. Use <nodemap>.Width.Value = 4\n",
      "  cam.Width = cam.Width.Min\n",
      "C:\\Users\\Bas_K\\AppData\\Local\\Temp\\ipykernel_39296\\3781184220.py:4: DeprecationWarning: Setting a feature value by direct assignment is deprecated. Use <nodemap>.ExposureTime.Value = 19.0\n",
      "  cam.ExposureTime = cam.ExposureTime.Min\n",
      "C:\\Users\\Bas_K\\AppData\\Local\\Temp\\ipykernel_39296\\3781184220.py:7: DeprecationWarning: Setting a feature value by direct assignment is deprecated. Use <nodemap>.AcquisitionFrameRateEnable.Value = True\n",
      "  cam.AcquisitionFrameRateEnable = True\n",
      "C:\\Users\\Bas_K\\AppData\\Local\\Temp\\ipykernel_39296\\3781184220.py:8: DeprecationWarning: Setting a feature value by direct assignment is deprecated. Use <nodemap>.AcquisitionFrameRate.Value = 1000\n",
      "  cam.AcquisitionFrameRate = 1000\n"
     ]
    },
    {
     "name": "stdout",
     "output_type": "stream",
     "text": [
      "1000.0\n"
     ]
    }
   ],
   "execution_count": 34
  },
  {
   "cell_type": "code",
   "id": "offensive-tiger",
   "metadata": {
    "ExecuteTime": {
     "end_time": "2025-08-29T13:23:12.158287Z",
     "start_time": "2025-08-29T13:23:12.155283Z"
    }
   },
   "source": [
    "# list of timestamp + io status\n",
    "io_res[:10]"
   ],
   "outputs": [
    {
     "data": {
      "text/plain": [
       "[(204818195510, 0),\n",
       " (204819195790, 0),\n",
       " (204820196060, 0),\n",
       " (204821196340, 0),\n",
       " (204822196610, 0),\n",
       " (204823196890, 0),\n",
       " (204824197160, 0),\n",
       " (204825197440, 0),\n",
       " (204826197710, 0),\n",
       " (204827197990, 0)]"
      ]
     },
     "execution_count": 35,
     "metadata": {},
     "output_type": "execute_result"
    }
   ],
   "execution_count": 35
  },
  {
   "metadata": {
    "ExecuteTime": {
     "end_time": "2025-08-29T13:23:41.397239Z",
     "start_time": "2025-08-29T13:23:41.393371Z"
    }
   },
   "cell_type": "code",
   "source": "io_array[:,1]",
   "id": "fa6b0758d5b4b457",
   "outputs": [
    {
     "data": {
      "text/plain": [
       "array([0, 0, 0, 0, 0, 0, 0, 0, 0, 0, 0, 0, 0, 0, 0, 0, 0, 0, 0, 0, 0, 0,\n",
       "       0, 0, 0, 0, 0, 0, 0, 0, 0, 0, 0, 0, 0, 0, 0, 0, 0, 0, 0, 0, 0, 0,\n",
       "       0, 0, 0, 0, 0, 0, 0, 0, 0, 0, 0, 0, 0, 0, 0, 0, 0, 0, 0, 0, 0, 0,\n",
       "       0, 0, 0, 0, 0, 0, 0, 0, 0, 0, 0, 0, 0, 0, 0, 0, 0, 0, 0, 0, 0, 0,\n",
       "       0, 0, 0, 0, 0, 0, 0, 0, 0, 0, 0, 0, 0, 0, 0, 0, 0, 0, 0, 0, 0, 0,\n",
       "       0, 0, 0, 0, 0, 0, 0, 0, 0, 0, 0, 0, 0, 0, 0, 0, 0, 0, 0, 0, 0, 0,\n",
       "       0, 0, 0, 0, 0, 0, 0, 0, 0, 0, 0, 0, 0, 0, 0, 0, 0, 0, 0, 0, 0, 0,\n",
       "       0, 0, 0, 0, 0, 0, 0, 0, 0, 0, 0, 0, 0, 0, 0, 0, 0, 0, 0, 0, 0, 0,\n",
       "       0, 0, 0, 0, 0, 0, 0, 0, 0, 0, 0, 0, 0, 0, 0, 0, 0, 0, 0, 0, 0, 0,\n",
       "       0, 0, 0, 0, 0, 0, 0, 0, 0, 0, 0, 0, 0, 0, 0, 0, 0, 0, 0, 0, 0, 0,\n",
       "       0, 0, 0, 0, 0, 0, 0, 0, 0, 0, 0, 0, 0, 0, 0, 0, 0, 0, 0, 0, 0, 0,\n",
       "       0, 0, 0, 0, 0, 0, 0, 0, 0, 0, 0, 0, 0, 0, 0, 0, 0, 0, 0, 0, 0, 0,\n",
       "       0, 0, 0, 0, 0, 0, 0, 0, 0, 0, 0, 0, 0, 0, 0, 0, 0, 0, 0, 0, 0, 0,\n",
       "       0, 0, 0, 0, 0, 0, 0, 0, 0, 0, 0, 0, 0, 0, 0, 0, 0, 0, 0, 0, 0, 0,\n",
       "       0, 0, 0, 0, 0, 0, 0, 0, 0, 0, 0, 0, 0, 0, 0, 0, 0, 0, 0, 0, 0, 0,\n",
       "       0, 0, 0, 0, 0, 0, 0, 0, 0, 0, 0, 0, 0, 0, 0, 0, 0, 0, 0, 0, 0, 0,\n",
       "       0, 0, 0, 0, 0, 0, 0, 0, 0, 0, 0, 0, 0, 0, 0, 0, 0, 0, 0, 0, 0, 0,\n",
       "       0, 0, 0, 0, 0, 0, 0, 0, 0, 0, 0, 0, 0, 0, 0, 0, 0, 0, 0, 0, 0, 0,\n",
       "       0, 0, 0, 0, 0, 0, 0, 0, 0, 0, 0, 0, 0, 0, 0, 0, 0, 0, 0, 0, 0, 0,\n",
       "       0, 0, 0, 0, 0, 0, 0, 0, 0, 0, 0, 0, 0, 0, 0, 0, 0, 0, 0, 0, 0, 0,\n",
       "       0, 0, 0, 0, 0, 0, 0, 0, 0, 0, 0, 0, 0, 0, 0, 0, 0, 0, 0, 0, 0, 0,\n",
       "       0, 0, 0, 0, 0, 0, 0, 0, 0, 0, 0, 0, 0, 0, 0, 0, 0, 0, 0, 0, 0, 0,\n",
       "       0, 0, 0, 0, 0, 0, 0, 0, 0, 0, 0, 0, 0, 0, 0, 0, 0, 0, 0, 0, 0, 0,\n",
       "       0, 0, 0, 0, 0, 0, 0, 0, 0, 0, 0, 0, 0, 0, 0, 0, 0, 0, 0, 0, 0, 0,\n",
       "       0, 0, 0, 0, 0, 0, 0, 0, 0, 0, 0, 0, 0, 0, 0, 0, 0, 0, 0, 0, 0, 0,\n",
       "       0, 0, 0, 0, 0, 0, 0, 0, 0, 0, 0, 0, 0, 0, 0, 0, 0, 0, 0, 0, 0, 0,\n",
       "       0, 0, 0, 0, 0, 0, 0, 0, 0, 0, 0, 0, 0, 0, 0, 0, 0, 0, 0, 0, 0, 0,\n",
       "       0, 0, 0, 0, 0, 0, 0, 0, 0, 0, 0, 0, 0, 0, 0, 0, 0, 0, 0, 0, 0, 0,\n",
       "       0, 0, 0, 0, 0, 0, 0, 0, 0, 0, 0, 0, 0, 0, 0, 0, 0, 0, 0, 0, 0, 0,\n",
       "       0, 0, 0, 0, 0, 0, 0, 0, 0, 0, 0, 0, 0, 0, 0, 0, 0, 0, 0, 0, 0, 0,\n",
       "       0, 0, 0, 0, 0, 0, 0, 0, 0, 0, 0, 0, 0, 0, 0, 0, 0, 0, 0, 0, 0, 0,\n",
       "       0, 0, 0, 0, 0, 0, 0, 0, 0, 0, 0, 0, 0, 0, 0, 0, 0, 0, 0, 0, 0, 0,\n",
       "       0, 0, 0, 0, 0, 0, 0, 0, 0, 0, 0, 0, 0, 0, 0, 0, 0, 0, 0, 0, 0, 0,\n",
       "       0, 0, 0, 0, 0, 0, 0, 0, 0, 0, 0, 0, 0, 0, 0, 0, 0, 0, 0, 0, 0, 0,\n",
       "       0, 0, 0, 0, 0, 0, 0, 0, 0, 0, 0, 0, 0, 0, 0, 0, 0, 0, 0, 0, 0, 0,\n",
       "       0, 0, 0, 0, 0, 0, 0, 0, 0, 0, 0, 0, 0, 0, 0, 0, 0, 0, 0, 0, 0, 0,\n",
       "       0, 0, 0, 0, 0, 0, 0, 0, 0, 0, 0, 0, 0, 0, 0, 0, 0, 0, 0, 0, 0, 0,\n",
       "       0, 0, 0, 0, 0, 0, 0, 0, 0, 0, 0, 0, 0, 0, 0, 0, 0, 0, 0, 0, 0, 0,\n",
       "       0, 0, 0, 0, 0, 0, 0, 0, 0, 0, 0, 0, 0, 0, 0, 0, 0, 0, 0, 0, 0, 0,\n",
       "       0, 0, 0, 0, 0, 0, 0, 0, 0, 0, 0, 0, 0, 0, 0, 0, 0, 0, 0, 0, 0, 0,\n",
       "       0, 0, 0, 0, 0, 0, 0, 0, 0, 0, 0, 0, 0, 0, 0, 0, 0, 0, 0, 0, 0, 0,\n",
       "       0, 0, 0, 0, 0, 0, 0, 0, 0, 0, 0, 0, 0, 0, 0, 0, 0, 0, 0, 0, 0, 0,\n",
       "       0, 0, 0, 0, 0, 0, 0, 0, 0, 0, 0, 0, 0, 0, 0, 0, 0, 0, 0, 0, 0, 0,\n",
       "       0, 0, 0, 0, 0, 0, 0, 0, 0, 0, 0, 0, 0, 0, 0, 0, 0, 0, 0, 0, 0, 0,\n",
       "       0, 0, 0, 0, 0, 0, 0, 0, 0, 0, 0, 0, 0, 0, 0, 0, 0, 0, 0, 0, 0, 0,\n",
       "       0, 0, 0, 0, 0, 0, 0, 0, 0, 0])"
      ]
     },
     "execution_count": 37,
     "metadata": {},
     "output_type": "execute_result"
    }
   ],
   "execution_count": 37
  },
  {
   "cell_type": "code",
   "id": "moving-carter",
   "metadata": {
    "ExecuteTime": {
     "end_time": "2025-08-29T13:23:13.966429Z",
     "start_time": "2025-08-29T13:23:13.898305Z"
    }
   },
   "source": [
    "# simple logic analyzer :-)\n",
    "\n",
    "# convert to numpy array\n",
    "io_array = np.array(io_res)\n",
    "# extract first column timestamps\n",
    "x_vals = io_array[:,0]\n",
    "#  start with first timestamp as '0'\n",
    "x_vals -= x_vals[0]\n",
    "\n",
    "# extract second column io values\n",
    "y_vals = io_array[:,1]\n",
    "# for each bit plot the graph\n",
    "for bit in range(8):\n",
    "    \n",
    "    logic_level = ((y_vals & (1<<bit)) != 0)*0.8 +bit\n",
    "    # plot in seconds\n",
    "    plt.plot(x_vals / 1e9, logic_level, label = bit)\n",
    "    \n",
    "plt.xlabel(\"time [s]\")\n",
    "plt.ylabel(\"IO_LINE [#]\")\n",
    "plt.legend()\n",
    "plt.show()"
   ],
   "outputs": [
    {
     "data": {
      "text/plain": [
       "<Figure size 640x480 with 1 Axes>"
      ],
      "image/png": "[encoded data removed]"
     },
     "metadata": {},
     "output_type": "display_data"
    }
   ],
   "execution_count": 36
  },
  {
   "cell_type": "markdown",
   "id": "refined-franklin",
   "metadata": {},
   "source": [
    "# Grabbing with Hardware Trigger on line4"
   ]
  },
  {
   "cell_type": "code",
   "id": "touched-blowing",
   "metadata": {
    "ExecuteTime": {
     "end_time": "2025-08-29T13:24:01.839661Z",
     "start_time": "2025-08-29T13:24:01.755745Z"
    }
   },
   "source": [
    "# get clean powerup state\n",
    "cam.UserSetSelector = \"Default\"\n",
    "cam.UserSetLoad.Execute()"
   ],
   "outputs": [
    {
     "name": "stderr",
     "output_type": "stream",
     "text": [
      "C:\\Users\\Bas_K\\AppData\\Local\\Temp\\ipykernel_39296\\3791267113.py:2: DeprecationWarning: Setting a feature value by direct assignment is deprecated. Use <nodemap>.UserSetSelector.Value = Default\n",
      "  cam.UserSetSelector = \"Default\"\n"
     ]
    }
   ],
   "execution_count": 38
  },
  {
   "cell_type": "markdown",
   "id": "polished-failing",
   "metadata": {},
   "source": [
    "setup the io section"
   ]
  },
  {
   "cell_type": "code",
   "id": "abroad-attitude",
   "metadata": {
    "ExecuteTime": {
     "end_time": "2025-08-29T13:24:06.966105Z",
     "start_time": "2025-08-29T13:24:06.963231Z"
    }
   },
   "source": [
    "cam.LineSelector = \"Line3\"\n",
    "cam.LineMode = \"Input\""
   ],
   "outputs": [
    {
     "name": "stderr",
     "output_type": "stream",
     "text": [
      "C:\\Users\\Bas_K\\AppData\\Local\\Temp\\ipykernel_39296\\2675893538.py:1: DeprecationWarning: Setting a feature value by direct assignment is deprecated. Use <nodemap>.LineSelector.Value = Line3\n",
      "  cam.LineSelector = \"Line3\"\n",
      "C:\\Users\\Bas_K\\AppData\\Local\\Temp\\ipykernel_39296\\2675893538.py:2: DeprecationWarning: Setting a feature value by direct assignment is deprecated. Use <nodemap>.LineMode.Value = Input\n",
      "  cam.LineMode = \"Input\"\n"
     ]
    }
   ],
   "execution_count": 39
  },
  {
   "cell_type": "markdown",
   "id": "grateful-amber",
   "metadata": {},
   "source": [
    "setup the trigger / acquisition controls"
   ]
  },
  {
   "cell_type": "code",
   "id": "later-insurance",
   "metadata": {
    "ExecuteTime": {
     "end_time": "2025-08-29T13:24:15.584662Z",
     "start_time": "2025-08-29T13:24:15.578580Z"
    }
   },
   "source": [
    "cam.TriggerSelector = \"FrameStart\"\n",
    "cam.TriggerSource = \"Line3\"\n",
    "cam.TriggerMode = \"On\"\n",
    "cam.TriggerActivation.Value"
   ],
   "outputs": [
    {
     "name": "stderr",
     "output_type": "stream",
     "text": [
      "C:\\Users\\Bas_K\\AppData\\Local\\Temp\\ipykernel_39296\\3917386745.py:1: DeprecationWarning: Setting a feature value by direct assignment is deprecated. Use <nodemap>.TriggerSelector.Value = FrameStart\n",
      "  cam.TriggerSelector = \"FrameStart\"\n",
      "C:\\Users\\Bas_K\\AppData\\Local\\Temp\\ipykernel_39296\\3917386745.py:2: DeprecationWarning: Setting a feature value by direct assignment is deprecated. Use <nodemap>.TriggerSource.Value = Line3\n",
      "  cam.TriggerSource = \"Line3\"\n",
      "C:\\Users\\Bas_K\\AppData\\Local\\Temp\\ipykernel_39296\\3917386745.py:3: DeprecationWarning: Setting a feature value by direct assignment is deprecated. Use <nodemap>.TriggerMode.Value = On\n",
      "  cam.TriggerMode = \"On\"\n"
     ]
    },
    {
     "data": {
      "text/plain": [
       "'RisingEdge'"
      ]
     },
     "execution_count": 40,
     "metadata": {},
     "output_type": "execute_result"
    }
   ],
   "execution_count": 40
  },
  {
   "cell_type": "markdown",
   "id": "damaged-powder",
   "metadata": {},
   "source": [
    "When trigger is already running we can just extend the grab-timeout to be larger than trigger rate"
   ]
  },
  {
   "cell_type": "code",
   "id": "korean-heath",
   "metadata": {
    "jupyter": {
     "is_executing": true
    },
    "ExecuteTime": {
     "end_time": "2025-08-29T13:24:35.170251300Z",
     "start_time": "2025-08-29T13:24:18.657460Z"
    }
   },
   "source": [
    "res = cam.GrabOne(py.waitForever)"
   ],
   "outputs": [],
   "execution_count": null
  },
  {
   "cell_type": "markdown",
   "id": "caroline-bride",
   "metadata": {},
   "source": [
    "When the trigger could be off when you start or much longer, that you would want to wait ....\n",
    "\n",
    "options are:\n",
    "\n",
    "* call `cam.RetrieveResult(py.waitForever)`\n",
    "  but this will block until a frame is received\n",
    "* poll `cam.NumReadyBuffers.Value` to check if at least one frame is available\n",
    "* use the pylon background loop to capture"
   ]
  },
  {
   "cell_type": "markdown",
   "id": "decent-execution",
   "metadata": {},
   "source": [
    "## triggered acquisition using the background loop"
   ]
  },
  {
   "cell_type": "code",
   "execution_count": 20,
   "id": "wireless-growth",
   "metadata": {},
   "outputs": [],
   "source": [
    "# definition of event handler class \n",
    "class TriggeredImage(py.ImageEventHandler):\n",
    "    def __init__(self):\n",
    "        super().__init__()\n",
    "        self.grab_times = []\n",
    "    def OnImageGrabbed(self, camera, grabResult):\n",
    "        self.grab_times.append(grabResult.TimeStamp)"
   ]
  },
  {
   "cell_type": "code",
   "execution_count": 21,
   "id": "expected-worry",
   "metadata": {},
   "outputs": [],
   "source": [
    "# create event handler instance\n",
    "image_timestamps = TriggeredImage()\n",
    "\n",
    "# register handler\n",
    "# remove all other handlers\n",
    "cam.RegisterImageEventHandler(image_timestamps, \n",
    "                              py.RegistrationMode_ReplaceAll, \n",
    "                              py.Cleanup_None)\n",
    "\n",
    "# start grabbing with background loop\n",
    "cam.StartGrabbingMax(100, py.GrabStrategy_LatestImages, py.GrabLoop_ProvidedByInstantCamera)\n",
    "# wait ... or do something relevant\n",
    "while cam.IsGrabbing():\n",
    "    time.sleep(0.1)\n",
    "# stop grabbing\n",
    "cam.StopGrabbing()"
   ]
  },
  {
   "cell_type": "code",
   "execution_count": null,
   "id": "strategic-preference",
   "metadata": {},
   "outputs": [],
   "source": [
    "# let's check how precise the image acquisition was:\n",
    "# assumption: the camera main oscillator has a much higher precision\n",
    "#             than the raspberry-pi PWM output\n",
    "\n",
    "# frame_delta = np.diff(np.array(image_timestamps.grab_times))/1e6"
   ]
  },
  {
   "cell_type": "code",
   "execution_count": 23,
   "id": "jewish-negative",
   "metadata": {},
   "outputs": [
    {
     "data": {
      "text/plain": [
       "array([200200248, 200199141, 200173059, 200199843, 200171790, 200171547,\n",
       "       200199681, 200199195, 200173005, 200199735, 200171898, 200166525,\n",
       "       200171250, 200171169, 200201031, 200173113, 200171520, 200201571,\n",
       "       200199330, 200172843, 200198493, 200167821, 200166390, 200226384,\n",
       "       200183400, 200172114, 200174463, 200170818, 200169684, 200214261,\n",
       "       200170980, 200168955, 200171817, 200168820, 200173005, 200175381,\n",
       "       200214450, 200182482, 200171628, 200185101, 200180754, 200176623,\n",
       "       200179539, 200173896, 200174706, 200168523, 200201220, 200169657,\n",
       "       200199357, 200173356, 200168361, 200168118, 200167173, 200199762,\n",
       "       200168361, 200181537, 200172357, 200168469, 200175921, 200170764,\n",
       "       200168685, 200171574, 200172060, 200172600, 200172762, 200171979,\n",
       "       200170845, 200204514, 200173140, 200167686, 200166363, 200198304,\n",
       "       200175678, 200168415, 200167443, 200173599, 200198385, 200175840,\n",
       "       200169414, 200197791, 200173518, 200168010, 200167065, 200197386,\n",
       "       200167308, 200167470, 200166822, 200195982, 200171034, 200172330,\n",
       "       200168415, 200236509, 200175030, 200170629, 200206242, 200180673,\n",
       "       200204163, 200214558, 200211156], dtype=int64)"
      ]
     },
     "execution_count": 23,
     "metadata": {},
     "output_type": "execute_result"
    }
   ],
   "source": [
    "np.diff(image_timestamps.grab_times)"
   ]
  },
  {
   "cell_type": "code",
   "execution_count": 24,
   "id": "intellectual-butter",
   "metadata": {},
   "outputs": [
    {
     "data": {
      "text/plain": [
       "<matplotlib.lines.Line2D at 0x229d97af040>"
      ]
     },
     "execution_count": 24,
     "metadata": {},
     "output_type": "execute_result"
    },
    {
     "data": {
      "image/png": "[encoded data removed]",
      "text/plain": [
       "<Figure size 432x288 with 1 Axes>"
      ]
     },
     "metadata": {
      "needs_background": "light"
     },
     "output_type": "display_data"
    }
   ],
   "source": [
    "frame_delta_s = np.diff(np.array(image_timestamps.grab_times))/1.e9\n",
    "plt.plot(frame_delta_s, \".\")\n",
    "plt.axhline(np.mean(frame_delta_s))"
   ]
  },
  {
   "cell_type": "code",
   "execution_count": 25,
   "id": "circular-gateway",
   "metadata": {},
   "outputs": [
    {
     "data": {
      "image/png": "[encoded data removed]",
      "text/plain": [
       "<Figure size 432x288 with 1 Axes>"
      ]
     },
     "metadata": {
      "needs_background": "light"
     },
     "output_type": "display_data"
    }
   ],
   "source": [
    "plt.hist(frame_delta_s  - np.mean(frame_delta_s) , bins=100)\n",
    "plt.xticks(rotation=45)\n",
    "plt.show()"
   ]
  },
  {
   "cell_type": "code",
   "id": "terminal-reflection",
   "metadata": {
    "ExecuteTime": {
     "end_time": "2025-08-29T13:22:01.390520Z",
     "start_time": "2025-08-29T13:22:01.387322Z"
    }
   },
   "source": [
    "cam.Close()"
   ],
   "outputs": [],
   "execution_count": 27
  },
  {
   "cell_type": "code",
   "execution_count": null,
   "id": "prescribed-composite",
   "metadata": {},
   "outputs": [],
   "source": []
  }
 ],
 "metadata": {
  "kernelspec": {
   "display_name": "Python 3",
   "language": "python",
   "name": "python3"
  },
  "language_info": {
   "codemirror_mode": {
    "name": "ipython",
    "version": 3
   },
   "file_extension": ".py",
   "mimetype": "text/x-python",
   "name": "python",
   "nbconvert_exporter": "python",
   "pygments_lexer": "ipython3",
   "version": "3.8.7"
  }
 },
 "nbformat": 4,
 "nbformat_minor": 5
}
