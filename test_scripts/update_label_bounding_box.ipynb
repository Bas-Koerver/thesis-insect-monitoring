{
 "cells": [
  {
   "cell_type": "code",
   "id": "initial_id",
   "metadata": {
    "collapsed": true,
    "ExecuteTime": {
     "end_time": "2025-08-31T14:15:37.490116Z",
     "start_time": "2025-08-31T14:15:37.220167Z"
    }
   },
   "source": [
    "import cv2\n",
    "import pandas as pd\n",
    "import numpy as np\n",
    "import h5py"
   ],
   "outputs": [],
   "execution_count": 1
  },
  {
   "metadata": {
    "ExecuteTime": {
     "end_time": "2025-08-31T14:12:26.883605Z",
     "start_time": "2025-08-31T14:12:26.868297Z"
    }
   },
   "cell_type": "code",
   "source": "bounding_box_df = pd.read_csv(\"../datasets/wacv2024_ictrap_dataset/3_m-h-h_annotation.csv\")",
   "id": "c9d3dfa6159091c9",
   "outputs": [],
   "execution_count": 49
  },
  {
   "metadata": {
    "ExecuteTime": {
     "end_time": "2025-08-31T14:12:27.233086Z",
     "start_time": "2025-08-31T14:12:27.220620Z"
    }
   },
   "cell_type": "code",
   "source": "",
   "id": "df247613ebb89436",
   "outputs": [
    {
     "data": {
      "text/plain": [
       "       frame_index  is_keyframe   class confidence    left     top  width  \\\n",
       "0                0         True  insect    certain  638.40   83.40   32.4   \n",
       "1                0         True  insect    certain  345.60  151.80   15.6   \n",
       "2                1        False  insect    certain  635.85   83.25   32.4   \n",
       "3                1        False  insect    certain  345.80  150.20   15.8   \n",
       "4                2        False  insect    certain  633.30   83.10   32.4   \n",
       "...            ...          ...     ...        ...     ...     ...    ...   \n",
       "15047         8200         True  insect  uncertain  441.60  141.60   33.6   \n",
       "15048         8200        False  insect  uncertain  127.40  373.60   13.8   \n",
       "15049         8201         True  insect  uncertain  444.60  144.60   29.4   \n",
       "15050         8201         True  insect  uncertain  126.00  374.40   13.8   \n",
       "15051          592        False  insect    certain  711.96  141.00   35.4   \n",
       "\n",
       "       height  center_x  center_y  \n",
       "0        31.8    654.60     99.30  \n",
       "1        14.4    353.40    159.00  \n",
       "2        31.8    652.05     99.15  \n",
       "3        14.8    353.70    157.60  \n",
       "4        31.8    649.50     99.00  \n",
       "...       ...       ...       ...  \n",
       "15047    30.0    458.40    156.60  \n",
       "15048    12.6    134.30    379.90  \n",
       "15049    27.0    459.30    158.10  \n",
       "15050    12.6    132.90    380.70  \n",
       "15051    31.8    729.66    156.90  \n",
       "\n",
       "[15052 rows x 10 columns]"
      ],
      "text/html": [
       "<div>\n",
       "<style scoped>\n",
       "    .dataframe tbody tr th:only-of-type {\n",
       "        vertical-align: middle;\n",
       "    }\n",
       "\n",
       "    .dataframe tbody tr th {\n",
       "        vertical-align: top;\n",
       "    }\n",
       "\n",
       "    .dataframe thead th {\n",
       "        text-align: right;\n",
       "    }\n",
       "</style>\n",
       "<table border=\"1\" class=\"dataframe\">\n",
       "  <thead>\n",
       "    <tr style=\"text-align: right;\">\n",
       "      <th></th>\n",
       "      <th>frame_index</th>\n",
       "      <th>is_keyframe</th>\n",
       "      <th>class</th>\n",
       "      <th>confidence</th>\n",
       "      <th>left</th>\n",
       "      <th>top</th>\n",
       "      <th>width</th>\n",
       "      <th>height</th>\n",
       "      <th>center_x</th>\n",
       "      <th>center_y</th>\n",
       "    </tr>\n",
       "  </thead>\n",
       "  <tbody>\n",
       "    <tr>\n",
       "      <th>0</th>\n",
       "      <td>0</td>\n",
       "      <td>True</td>\n",
       "      <td>insect</td>\n",
       "      <td>certain</td>\n",
       "      <td>638.40</td>\n",
       "      <td>83.40</td>\n",
       "      <td>32.4</td>\n",
       "      <td>31.8</td>\n",
       "      <td>654.60</td>\n",
       "      <td>99.30</td>\n",
       "    </tr>\n",
       "    <tr>\n",
       "      <th>1</th>\n",
       "      <td>0</td>\n",
       "      <td>True</td>\n",
       "      <td>insect</td>\n",
       "      <td>certain</td>\n",
       "      <td>345.60</td>\n",
       "      <td>151.80</td>\n",
       "      <td>15.6</td>\n",
       "      <td>14.4</td>\n",
       "      <td>353.40</td>\n",
       "      <td>159.00</td>\n",
       "    </tr>\n",
       "    <tr>\n",
       "      <th>2</th>\n",
       "      <td>1</td>\n",
       "      <td>False</td>\n",
       "      <td>insect</td>\n",
       "      <td>certain</td>\n",
       "      <td>635.85</td>\n",
       "      <td>83.25</td>\n",
       "      <td>32.4</td>\n",
       "      <td>31.8</td>\n",
       "      <td>652.05</td>\n",
       "      <td>99.15</td>\n",
       "    </tr>\n",
       "    <tr>\n",
       "      <th>3</th>\n",
       "      <td>1</td>\n",
       "      <td>False</td>\n",
       "      <td>insect</td>\n",
       "      <td>certain</td>\n",
       "      <td>345.80</td>\n",
       "      <td>150.20</td>\n",
       "      <td>15.8</td>\n",
       "      <td>14.8</td>\n",
       "      <td>353.70</td>\n",
       "      <td>157.60</td>\n",
       "    </tr>\n",
       "    <tr>\n",
       "      <th>4</th>\n",
       "      <td>2</td>\n",
       "      <td>False</td>\n",
       "      <td>insect</td>\n",
       "      <td>certain</td>\n",
       "      <td>633.30</td>\n",
       "      <td>83.10</td>\n",
       "      <td>32.4</td>\n",
       "      <td>31.8</td>\n",
       "      <td>649.50</td>\n",
       "      <td>99.00</td>\n",
       "    </tr>\n",
       "    <tr>\n",
       "      <th>...</th>\n",
       "      <td>...</td>\n",
       "      <td>...</td>\n",
       "      <td>...</td>\n",
       "      <td>...</td>\n",
       "      <td>...</td>\n",
       "      <td>...</td>\n",
       "      <td>...</td>\n",
       "      <td>...</td>\n",
       "      <td>...</td>\n",
       "      <td>...</td>\n",
       "    </tr>\n",
       "    <tr>\n",
       "      <th>15047</th>\n",
       "      <td>8200</td>\n",
       "      <td>True</td>\n",
       "      <td>insect</td>\n",
       "      <td>uncertain</td>\n",
       "      <td>441.60</td>\n",
       "      <td>141.60</td>\n",
       "      <td>33.6</td>\n",
       "      <td>30.0</td>\n",
       "      <td>458.40</td>\n",
       "      <td>156.60</td>\n",
       "    </tr>\n",
       "    <tr>\n",
       "      <th>15048</th>\n",
       "      <td>8200</td>\n",
       "      <td>False</td>\n",
       "      <td>insect</td>\n",
       "      <td>uncertain</td>\n",
       "      <td>127.40</td>\n",
       "      <td>373.60</td>\n",
       "      <td>13.8</td>\n",
       "      <td>12.6</td>\n",
       "      <td>134.30</td>\n",
       "      <td>379.90</td>\n",
       "    </tr>\n",
       "    <tr>\n",
       "      <th>15049</th>\n",
       "      <td>8201</td>\n",
       "      <td>True</td>\n",
       "      <td>insect</td>\n",
       "      <td>uncertain</td>\n",
       "      <td>444.60</td>\n",
       "      <td>144.60</td>\n",
       "      <td>29.4</td>\n",
       "      <td>27.0</td>\n",
       "      <td>459.30</td>\n",
       "      <td>158.10</td>\n",
       "    </tr>\n",
       "    <tr>\n",
       "      <th>15050</th>\n",
       "      <td>8201</td>\n",
       "      <td>True</td>\n",
       "      <td>insect</td>\n",
       "      <td>uncertain</td>\n",
       "      <td>126.00</td>\n",
       "      <td>374.40</td>\n",
       "      <td>13.8</td>\n",
       "      <td>12.6</td>\n",
       "      <td>132.90</td>\n",
       "      <td>380.70</td>\n",
       "    </tr>\n",
       "    <tr>\n",
       "      <th>15051</th>\n",
       "      <td>592</td>\n",
       "      <td>False</td>\n",
       "      <td>insect</td>\n",
       "      <td>certain</td>\n",
       "      <td>711.96</td>\n",
       "      <td>141.00</td>\n",
       "      <td>35.4</td>\n",
       "      <td>31.8</td>\n",
       "      <td>729.66</td>\n",
       "      <td>156.90</td>\n",
       "    </tr>\n",
       "  </tbody>\n",
       "</table>\n",
       "<p>15052 rows × 10 columns</p>\n",
       "</div>"
      ]
     },
     "execution_count": 50,
     "metadata": {},
     "output_type": "execute_result"
    }
   ],
   "execution_count": 50
  },
  {
   "metadata": {},
   "cell_type": "code",
   "outputs": [],
   "execution_count": null,
   "source": "",
   "id": "d0bfccc6bcbac88e"
  },
  {
   "metadata": {
    "ExecuteTime": {
     "end_time": "2025-08-31T14:16:44.016349Z",
     "start_time": "2025-08-31T14:16:44.013841Z"
    }
   },
   "cell_type": "code",
   "source": "file = h5py.File(\"../datasets/wacv2024_ictrap_dataset/3_m-h-h.h5\", \"r\")",
   "id": "129dacafbe74e5ba",
   "outputs": [],
   "execution_count": 7
  },
  {
   "metadata": {
    "ExecuteTime": {
     "end_time": "2025-08-31T14:16:44.233071Z",
     "start_time": "2025-08-31T14:16:44.230209Z"
    }
   },
   "cell_type": "code",
   "source": "file.keys()",
   "id": "6f58f0a16cdd5514",
   "outputs": [
    {
     "data": {
      "text/plain": [
       "<KeysViewHDF5 ['CD', 'EXTERNAL_TRIGGERS']>"
      ]
     },
     "execution_count": 8,
     "metadata": {},
     "output_type": "execute_result"
    }
   ],
   "execution_count": 8
  },
  {
   "metadata": {
    "ExecuteTime": {
     "end_time": "2025-08-31T14:16:44.401654Z",
     "start_time": "2025-08-31T14:16:44.398208Z"
    }
   },
   "cell_type": "code",
   "source": "np.diff(file['EXTERNAL_TRIGGERS']['corrected_negative']['t'])",
   "id": "2f897c61520c6045",
   "outputs": [
    {
     "data": {
      "text/plain": [
       "array([21627, 21562, 21562, ..., 18387, 18379, 18368], shape=(8200,))"
      ]
     },
     "execution_count": 9,
     "metadata": {},
     "output_type": "execute_result"
    }
   ],
   "execution_count": 9
  },
  {
   "metadata": {
    "ExecuteTime": {
     "end_time": "2025-08-31T14:16:44.566055Z",
     "start_time": "2025-08-31T14:16:44.563694Z"
    }
   },
   "cell_type": "code",
   "source": " # file['CD']['events'][file['CD']['events']['x'] == file['CD']['events']['x'].max()]",
   "id": "d0ebbf4b1589b843",
   "outputs": [],
   "execution_count": 10
  },
  {
   "metadata": {
    "ExecuteTime": {
     "end_time": "2025-08-31T16:10:11.762971Z",
     "start_time": "2025-08-31T16:10:11.691912Z"
    }
   },
   "cell_type": "code",
   "source": [
    "# Load video and display bounding box\n",
    "cap = cv2.VideoCapture(\"../datasets/wacv2024_ictrap_dataset/4_m-m-h_rgb.mp4\")\n",
    "# cap.set(cv2.CAP_PROP_POS_FRAMES, 21129)"
   ],
   "id": "3858a963602d453",
   "outputs": [],
   "execution_count": 205
  },
  {
   "metadata": {
    "ExecuteTime": {
     "end_time": "2025-08-31T16:10:11.831047Z",
     "start_time": "2025-08-31T16:10:11.766979Z"
    }
   },
   "cell_type": "code",
   "source": "ret, frame = cap.read()",
   "id": "9af19f916eadbefd",
   "outputs": [],
   "execution_count": 206
  },
  {
   "metadata": {
    "ExecuteTime": {
     "end_time": "2025-08-31T16:10:11.838550Z",
     "start_time": "2025-08-31T16:10:11.835551Z"
    }
   },
   "cell_type": "code",
   "source": "frame.shape",
   "id": "51dbf4ebcb55aca5",
   "outputs": [
    {
     "data": {
      "text/plain": [
       "(1200, 1920, 3)"
      ]
     },
     "execution_count": 207,
     "metadata": {},
     "output_type": "execute_result"
    }
   ],
   "execution_count": 207
  },
  {
   "metadata": {
    "ExecuteTime": {
     "end_time": "2025-08-31T16:14:12.827039Z",
     "start_time": "2025-08-31T16:14:12.824016Z"
    }
   },
   "cell_type": "code",
   "source": [
    "image = frame[156:1070,:]\n",
    "# image = cv2.resize(frame, (1280, 720))\n",
    "print(cap.get(cv2.CAP_PROP_FPS))\n",
    "print(cap.get(cv2.CAP_PROP_POS_FRAMES))"
   ],
   "id": "127d107abaf33a6e",
   "outputs": [
    {
     "name": "stdout",
     "output_type": "stream",
     "text": [
      "100.0\n",
      "1.0\n"
     ]
    }
   ],
   "execution_count": 256
  },
  {
   "metadata": {
    "ExecuteTime": {
     "end_time": "2025-08-31T16:14:12.838882Z",
     "start_time": "2025-08-31T16:14:12.836553Z"
    }
   },
   "cell_type": "code",
   "source": [
    "# image = cv2.resize(frame, (1280, 720))\n",
    "\n",
    "# left = 638.40\n",
    "# top = 83.40\n",
    "# left = 640\n",
    "# top = 143\n",
    "# width = 32.400000\n",
    "# height = 31.800000\n",
    "\n",
    "left = 539.7\n",
    "top = 293.3\n",
    "width = 42.6\n",
    "height = 30\n",
    "\n",
    "\n",
    "x1 = int(left)\n",
    "y1 = int(top)\n",
    "x2 = int(left + width)\n",
    "y2 = int(top + height)"
   ],
   "id": "d1a52a8913bed723",
   "outputs": [],
   "execution_count": 257
  },
  {
   "metadata": {
    "ExecuteTime": {
     "end_time": "2025-08-31T16:14:12.847271Z",
     "start_time": "2025-08-31T16:14:12.844892Z"
    }
   },
   "cell_type": "code",
   "source": [
    "# left2 = 345.60\n",
    "# top2 = 151.80\n",
    "left2 = 391\n",
    "top2 = 204\n",
    "width2 = 15.6\n",
    "height2 = 14.4\n",
    "\n",
    "x3 = int(left2)\n",
    "y3 = int(top2)\n",
    "x4 = int(left2 + width2)\n",
    "y4 = int(top2 + height2)"
   ],
   "id": "6af25cc4f7401674",
   "outputs": [],
   "execution_count": 258
  },
  {
   "metadata": {
    "ExecuteTime": {
     "end_time": "2025-08-31T16:14:12.852224Z",
     "start_time": "2025-08-31T16:14:12.850274Z"
    }
   },
   "cell_type": "code",
   "source": [
    "img = cv2.rectangle(image, (x1, y1), (x2, y2), (0, 255, 0), 2)\n",
    "# img = cv2.rectangle(img, (x3, y3), (x4, y4), (255, 0, 0), 2)"
   ],
   "id": "98dd76775a779cd6",
   "outputs": [],
   "execution_count": 259
  },
  {
   "metadata": {
    "ExecuteTime": {
     "end_time": "2025-08-31T16:14:12.857149Z",
     "start_time": "2025-08-31T16:14:12.854727Z"
    }
   },
   "cell_type": "code",
   "source": [
    "def click_event(event, x, y, flags, params):\n",
    "    if event == cv2.EVENT_LBUTTONDOWN:\n",
    "        print(f'({x},{y})')\n",
    "\n",
    "        # put coordinates as text on the image\n",
    "        cv2.putText(img, f'({x},{y})',(x,y),\n",
    "                    cv2.FONT_HERSHEY_SIMPLEX, 1, (0, 0, 255), 2)\n",
    "\n",
    "        # draw point on the image\n",
    "        cv2.circle(img, (x,y), 3, (0,255,255), -1)"
   ],
   "id": "65ab9a1f74f6b9b3",
   "outputs": [],
   "execution_count": 260
  },
  {
   "metadata": {
    "jupyter": {
     "is_executing": true
    },
    "ExecuteTime": {
     "start_time": "2025-08-31T16:14:12.860152Z"
    }
   },
   "cell_type": "code",
   "source": [
    "cv2.namedWindow('image')\n",
    "cv2.setMouseCallback('image',click_event)\n",
    "\n",
    "while True:\n",
    "    cv2.imshow('image', img)\n",
    "    k = cv2.waitKey(1) & 0xFF\n",
    "    if k == 27:\n",
    "        break\n",
    "    elif k == ord('a'):\n",
    "        print(mouseX,mouseY)\n",
    "\n",
    "cv2.destroyAllWindows()"
   ],
   "id": "f1afa13231810412",
   "outputs": [],
   "execution_count": null
  },
  {
   "metadata": {
    "ExecuteTime": {
     "end_time": "2025-08-31T16:08:18.074908800Z",
     "start_time": "2025-08-31T14:45:34.070323Z"
    }
   },
   "cell_type": "code",
   "source": "cap.release()",
   "id": "69e7ac1ed4f46f3f",
   "outputs": [],
   "execution_count": 28
  },
  {
   "metadata": {},
   "cell_type": "code",
   "outputs": [],
   "execution_count": null,
   "source": "",
   "id": "ae7ed9900d149fbb"
  }
 ],
 "metadata": {
  "kernelspec": {
   "display_name": "Python 3",
   "language": "python",
   "name": "python3"
  },
  "language_info": {
   "codemirror_mode": {
    "name": "ipython",
    "version": 2
   },
   "file_extension": ".py",
   "mimetype": "text/x-python",
   "name": "python",
   "nbconvert_exporter": "python",
   "pygments_lexer": "ipython2",
   "version": "2.7.6"
  }
 },
 "nbformat": 4,
 "nbformat_minor": 5
}
