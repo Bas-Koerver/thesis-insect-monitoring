{
 "cells": [
  {
   "cell_type": "markdown",
   "id": "catholic-seventh",
   "metadata": {},
   "source": [
    "# Device Enumeration and Device Configuration"
   ]
  },
  {
   "cell_type": "code",
   "id": "romance-dynamics",
   "metadata": {
    "ExecuteTime": {
     "end_time": "2025-08-27T18:11:39.792087Z",
     "start_time": "2025-08-27T18:11:39.508763Z"
    }
   },
   "source": [
    "import time\n",
    "\n",
    "# these four imports will provide most of the functionality required in\n",
    "# to start working with basler cameras\n",
    "# pypylon \n",
    "import pypylon.pylon as py\n",
    "# plotting for graphs and display of image\n",
    "import matplotlib.pyplot as plt\n",
    "# linear algebra and basic math on image matrices\n",
    "import numpy as np\n",
    "# OpenCV for image processing functions\n",
    "import cv2"
   ],
   "outputs": [],
   "execution_count": 1
  },
  {
   "cell_type": "code",
   "id": "early-seven",
   "metadata": {
    "ExecuteTime": {
     "end_time": "2025-08-27T18:11:39.797099Z",
     "start_time": "2025-08-27T18:11:39.795096Z"
    }
   },
   "source": [
    "# get instance of the pylon TransportLayerFactory\n",
    "tlf = py.TlFactory.GetInstance()"
   ],
   "outputs": [],
   "execution_count": 2
  },
  {
   "cell_type": "code",
   "id": "played-specification",
   "metadata": {
    "ExecuteTime": {
     "end_time": "2025-08-27T18:11:39.805356Z",
     "start_time": "2025-08-27T18:11:39.801101Z"
    }
   },
   "source": [
    "# all pypylon objects are instances of SWIG wrappers around the underlying pylon c++ types\n",
    "tlf"
   ],
   "outputs": [
    {
     "data": {
      "text/plain": [
       "<pypylon.pylon.TlFactory; proxy of <Swig Object of type 'Pylon::CTlFactory *' at 0x000001AE0EBAAFD0> >"
      ]
     },
     "execution_count": 3,
     "metadata": {},
     "output_type": "execute_result"
    }
   ],
   "execution_count": 3
  },
  {
   "cell_type": "code",
   "id": "honest-banana",
   "metadata": {
    "ExecuteTime": {
     "end_time": "2025-08-27T18:11:40.083326Z",
     "start_time": "2025-08-27T18:11:39.812367Z"
    }
   },
   "source": [
    "devices = tlf.EnumerateDevices()"
   ],
   "outputs": [],
   "execution_count": 4
  },
  {
   "cell_type": "code",
   "id": "accepting-minute",
   "metadata": {
    "ExecuteTime": {
     "end_time": "2025-08-27T18:11:40.090735Z",
     "start_time": "2025-08-27T18:11:40.088337Z"
    }
   },
   "source": [
    "# list of pylon Device \n",
    "devices"
   ],
   "outputs": [
    {
     "data": {
      "text/plain": [
       "(<pypylon.pylon.DeviceInfo; proxy of <Swig Object of type 'Pylon::CDeviceInfo *' at 0x000001AE40696790> >,)"
      ]
     },
     "execution_count": 5,
     "metadata": {},
     "output_type": "execute_result"
    }
   ],
   "execution_count": 5
  },
  {
   "cell_type": "code",
   "id": "excited-theater",
   "metadata": {
    "ExecuteTime": {
     "end_time": "2025-08-27T18:11:40.102093Z",
     "start_time": "2025-08-27T18:11:40.099744Z"
    }
   },
   "source": [
    "for d in devices:\n",
    "    print(d.GetModelName(), d.GetSerialNumber())"
   ],
   "outputs": [
    {
     "name": "stdout",
     "output_type": "stream",
     "text": [
      "a2A1920-160ucPRO 40648144\n"
     ]
    }
   ],
   "execution_count": 6
  },
  {
   "cell_type": "code",
   "id": "frank-observation",
   "metadata": {
    "ExecuteTime": {
     "end_time": "2025-08-27T18:11:40.530Z",
     "start_time": "2025-08-27T18:11:40.109600Z"
    }
   },
   "source": [
    "# the active camera will be an InstantCamera based on a device\n",
    "# created with the corresponding DeviceInfo\n",
    "# this can be from a list of previously enumerated \n",
    "cam = py.InstantCamera(tlf.CreateDevice(devices[0]))"
   ],
   "outputs": [],
   "execution_count": 7
  },
  {
   "cell_type": "code",
   "id": "understanding-joining",
   "metadata": {
    "ExecuteTime": {
     "end_time": "2025-08-27T18:11:41.211233Z",
     "start_time": "2025-08-27T18:11:40.533002Z"
    }
   },
   "source": [
    "# or with the helper method to get the FirstDevice from an enumeration\n",
    "cam = py.InstantCamera(tlf.CreateFirstDevice())"
   ],
   "outputs": [],
   "execution_count": 8
  },
  {
   "cell_type": "code",
   "id": "serious-profile",
   "metadata": {
    "ExecuteTime": {
     "end_time": "2025-08-27T18:11:41.218836Z",
     "start_time": "2025-08-27T18:11:41.215735Z"
    }
   },
   "source": [
    "cam"
   ],
   "outputs": [
    {
     "data": {
      "text/plain": [
       "<pypylon.pylon.InstantCamera; proxy of <Swig Object of type 'Pylon::CInstantCamera *' at 0x000001AE0FBFF2A0> >"
      ]
     },
     "execution_count": 9,
     "metadata": {},
     "output_type": "execute_result"
    }
   ],
   "execution_count": 9
  },
  {
   "cell_type": "code",
   "id": "killing-bulletin",
   "metadata": {
    "ExecuteTime": {
     "end_time": "2025-08-27T18:11:41.247864Z",
     "start_time": "2025-08-27T18:11:41.226337Z"
    }
   },
   "source": [
    "# the features of the device are only accessable after Opening the device\n",
    "cam.Open()"
   ],
   "outputs": [],
   "execution_count": 10
  },
  {
   "metadata": {
    "ExecuteTime": {
     "end_time": "2025-08-27T18:11:51.261823Z",
     "start_time": "2025-08-27T18:11:50.824470Z"
    }
   },
   "cell_type": "code",
   "source": [
    "cam.UserSetSelector.SetValue(\"UserSet1\")\n",
    "cam.UserSetLoad.Execute()"
   ],
   "id": "ecf448140925355b",
   "outputs": [],
   "execution_count": 11
  },
  {
   "metadata": {
    "ExecuteTime": {
     "end_time": "2025-08-27T18:12:00.929832Z",
     "start_time": "2025-08-27T18:12:00.926499Z"
    }
   },
   "cell_type": "code",
   "source": "print(f\"Theoretical FPS: {cam.BslResultingAcquisitionFrameRate.Value}\")",
   "id": "edadf2bda1950467",
   "outputs": [
    {
     "name": "stdout",
     "output_type": "stream",
     "text": [
      "Theoretical FPS: 168.8048615800135\n"
     ]
    }
   ],
   "execution_count": 12
  },
  {
   "metadata": {
    "ExecuteTime": {
     "end_time": "2025-08-27T18:12:47.100955Z",
     "start_time": "2025-08-27T18:12:47.096249Z"
    }
   },
   "cell_type": "code",
   "source": "cam.ImageCompressionRateOption.Value",
   "id": "514261534379f1c0",
   "outputs": [
    {
     "data": {
      "text/plain": [
       "'Lossless'"
      ]
     },
     "execution_count": 15,
     "metadata": {},
     "output_type": "execute_result"
    }
   ],
   "execution_count": 15
  },
  {
   "metadata": {
    "ExecuteTime": {
     "end_time": "2025-08-27T18:13:24.669205Z",
     "start_time": "2025-08-27T18:13:24.664799Z"
    }
   },
   "cell_type": "code",
   "source": "cam.AcquisitionMode.Value",
   "id": "f1fd3297722b9108",
   "outputs": [
    {
     "data": {
      "text/plain": [
       "'Continuous'"
      ]
     },
     "execution_count": 16,
     "metadata": {},
     "output_type": "execute_result"
    }
   ],
   "execution_count": 16
  },
  {
   "metadata": {
    "ExecuteTime": {
     "end_time": "2025-08-25T13:29:43.156685Z",
     "start_time": "2025-08-25T13:29:43.153682Z"
    }
   },
   "cell_type": "code",
   "source": "cam.AcquisitionStart.Execute()",
   "id": "c31a8e57e926996c",
   "outputs": [],
   "execution_count": 630
  },
  {
   "metadata": {
    "ExecuteTime": {
     "end_time": "2025-08-25T13:30:00.891290Z",
     "start_time": "2025-08-25T13:30:00.887526Z"
    }
   },
   "cell_type": "code",
   "source": "cam.BslResultingAcquisitionFrameRate.Value",
   "id": "bc73dee1bcae8f91",
   "outputs": [
    {
     "data": {
      "text/plain": [
       "168.8048615800135"
      ]
     },
     "execution_count": 863,
     "metadata": {},
     "output_type": "execute_result"
    }
   ],
   "execution_count": 863
  },
  {
   "metadata": {
    "ExecuteTime": {
     "end_time": "2025-08-26T16:29:11.409910Z",
     "start_time": "2025-08-26T16:29:01.306590Z"
    }
   },
   "cell_type": "code",
   "source": [
    "# ===============================================================================\n",
    "#    This sample illustrates how to grab and process images using the CInstantCamera class.\n",
    "#    The images are grabbed and processed asynchronously, i.e.,\n",
    "#    while the application is processing a buffer, the acquisition of the next buffer is done\n",
    "#    in parallel.\n",
    "#\n",
    "#    The CInstantCamera class uses a pool of buffers to retrieve image data\n",
    "#    from the camera device. Once a buffer is filled and ready,\n",
    "#    the buffer can be retrieved from the camera object for processing. The buffer\n",
    "#    and additional image data are collected in a grab result. The grab result is\n",
    "#    held by a smart pointer after retrieval. The buffer is automatically reused\n",
    "#    when explicitly released or when the smart pointer object is destroyed.\n",
    "# ===============================================================================\n",
    "from pypylon import pylon\n",
    "from pypylon import genicam\n",
    "\n",
    "import sys\n",
    "\n",
    "# Number of images to be grabbed.\n",
    "countOfImagesToGrab = 1000\n",
    "\n",
    "# The exit code of the sample application.\n",
    "exitCode = 0\n",
    "\n",
    "try:\n",
    "    # Create an instant camera object with the camera device found first.\n",
    "    camera = pylon.InstantCamera(pylon.TlFactory.GetInstance().CreateFirstDevice())\n",
    "    camera.Open()\n",
    "\n",
    "    # Print the model name of the camera.\n",
    "    print(\"Using device \", camera.GetDeviceInfo().GetModelName())\n",
    "\n",
    "    # demonstrate some feature access\n",
    "    new_width = camera.Width.Value - camera.Width.Inc\n",
    "    if new_width >= camera.Width.Min:\n",
    "        camera.Width.Value = new_width\n",
    "\n",
    "    # The parameter MaxNumBuffer can be used to control the count of buffers\n",
    "    # allocated for grabbing. The default value of this parameter is 10.\n",
    "    camera.MaxNumBuffer.Value = 5\n",
    "\n",
    "    # Start the grabbing of c_countOfImagesToGrab images.\n",
    "    # The camera device is parameterized with a default configuration which\n",
    "    # sets up free-running continuous acquisition.\n",
    "    # camera.StartGrabbingMax(countOfImagesToGrab)\n",
    "    camera.StartGrabbing(True)\n",
    "\n",
    "    # Camera.StopGrabbing() is called automatically by the RetrieveResult() method\n",
    "    # when c_countOfImagesToGrab images have been retrieved.\n",
    "\n",
    "    start_time = time.time()\n",
    "    # FPS update time in seconds\n",
    "    display_time = 4\n",
    "    fc = 0\n",
    "    FPS = 0\n",
    "\n",
    "    while camera.IsGrabbing():\n",
    "        # Wait for an image and then retrieve it. A timeout of 5000 ms is used.\n",
    "        grabResult = camera.RetrieveResult(5000, pylon.TimeoutHandling_ThrowException)\n",
    "\n",
    "        # Image grabbed successfully?\n",
    "        if grabResult.GrabSucceeded():\n",
    "            # Access the image data.\n",
    "            # print(\"SizeX: \", grabResult.Width)\n",
    "            # print(\"SizeY: \", grabResult.Height)\n",
    "            img = grabResult.Array\n",
    "            # print(\"Gray value of first pixel: \", img[0, 0])\n",
    "        else:\n",
    "            print(\"Error: \", grabResult.ErrorCode, grabResult.ErrorDescription)\n",
    "        grabResult.Release()\n",
    "\n",
    "        fc += 1\n",
    "        TIME = time.time() - start_time\n",
    "\n",
    "        if (TIME) >= display_time:\n",
    "            FPS = fc / (TIME)\n",
    "            fc = 0\n",
    "            start_time = time.time()\n",
    "\n",
    "        fps_disp = \"FPS: \" + str(FPS)[:5]\n",
    "        print(fps_disp)\n",
    "\n",
    "    camera.Close()\n",
    "\n",
    "except genicam.GenericException as e:\n",
    "    # Error handling.\n",
    "    print(\"An exception occurred.\")\n",
    "    print(e)\n",
    "    exitCode = 1"
   ],
   "id": "99a1364b11a9f972",
   "outputs": [
    {
     "name": "stdout",
     "output_type": "stream",
     "text": [
      "Using device  a2A1920-160ucPRO\n",
      "FPS: 0\n",
      "FPS: 0\n",
      "FPS: 0\n",
      "FPS: 0\n",
      "FPS: 0\n",
      "FPS: 0\n",
      "FPS: 0\n",
      "FPS: 0\n",
      "FPS: 0\n",
      "FPS: 0\n",
      "FPS: 0\n",
      "FPS: 0\n",
      "FPS: 0\n",
      "FPS: 0\n",
      "FPS: 0\n",
      "FPS: 0\n",
      "FPS: 0\n",
      "FPS: 0\n",
      "FPS: 0\n",
      "FPS: 0\n",
      "FPS: 0\n",
      "FPS: 0\n",
      "FPS: 0\n",
      "FPS: 0\n",
      "FPS: 0\n",
      "FPS: 0\n",
      "FPS: 0\n",
      "FPS: 0\n",
      "FPS: 0\n",
      "FPS: 0\n",
      "FPS: 0\n",
      "FPS: 0\n",
      "FPS: 0\n",
      "FPS: 0\n",
      "FPS: 0\n",
      "FPS: 0\n",
      "FPS: 0\n",
      "FPS: 0\n",
      "FPS: 0\n",
      "FPS: 0\n",
      "FPS: 0\n",
      "FPS: 0\n",
      "FPS: 0\n",
      "FPS: 0\n",
      "FPS: 0\n",
      "FPS: 0\n",
      "FPS: 0\n",
      "FPS: 0\n",
      "FPS: 0\n",
      "FPS: 0\n",
      "FPS: 0\n",
      "FPS: 0\n",
      "FPS: 0\n",
      "FPS: 0\n",
      "FPS: 0\n",
      "FPS: 0\n",
      "FPS: 0\n",
      "FPS: 0\n",
      "FPS: 0\n",
      "FPS: 0\n",
      "FPS: 0\n",
      "FPS: 0\n",
      "FPS: 0\n",
      "FPS: 0\n",
      "FPS: 0\n",
      "FPS: 0\n",
      "FPS: 0\n",
      "FPS: 0\n",
      "FPS: 0\n",
      "FPS: 0\n",
      "FPS: 0\n",
      "FPS: 0\n",
      "FPS: 0\n",
      "FPS: 0\n",
      "FPS: 0\n",
      "FPS: 0\n",
      "FPS: 0\n",
      "FPS: 0\n",
      "FPS: 0\n",
      "FPS: 0\n",
      "FPS: 0\n",
      "FPS: 0\n",
      "FPS: 0\n",
      "FPS: 0\n",
      "FPS: 0\n",
      "FPS: 0\n",
      "FPS: 0\n",
      "FPS: 0\n",
      "FPS: 0\n",
      "FPS: 0\n",
      "FPS: 0\n",
      "FPS: 0\n",
      "FPS: 0\n",
      "FPS: 0\n",
      "FPS: 0\n",
      "FPS: 0\n",
      "FPS: 0\n",
      "FPS: 0\n",
      "FPS: 0\n",
      "FPS: 0\n",
      "FPS: 0\n",
      "FPS: 0\n",
      "FPS: 0\n",
      "FPS: 0\n",
      "FPS: 0\n",
      "FPS: 0\n",
      "FPS: 0\n",
      "FPS: 0\n",
      "FPS: 0\n",
      "FPS: 0\n",
      "FPS: 0\n",
      "FPS: 0\n",
      "FPS: 0\n",
      "FPS: 0\n",
      "FPS: 0\n",
      "FPS: 0\n",
      "FPS: 0\n",
      "FPS: 0\n",
      "FPS: 0\n",
      "FPS: 0\n",
      "FPS: 0\n",
      "FPS: 0\n",
      "FPS: 0\n",
      "FPS: 0\n",
      "FPS: 0\n",
      "FPS: 0\n",
      "FPS: 0\n",
      "FPS: 0\n",
      "FPS: 0\n",
      "FPS: 0\n",
      "FPS: 0\n",
      "FPS: 0\n",
      "FPS: 0\n",
      "FPS: 0\n",
      "FPS: 0\n",
      "FPS: 0\n",
      "FPS: 0\n",
      "FPS: 0\n",
      "FPS: 0\n",
      "FPS: 0\n",
      "FPS: 0\n",
      "FPS: 0\n",
      "FPS: 0\n",
      "FPS: 0\n",
      "FPS: 0\n",
      "FPS: 0\n",
      "FPS: 0\n",
      "FPS: 0\n",
      "FPS: 0\n",
      "FPS: 0\n",
      "FPS: 0\n",
      "FPS: 0\n",
      "FPS: 0\n",
      "FPS: 0\n",
      "FPS: 0\n",
      "FPS: 0\n",
      "FPS: 0\n",
      "FPS: 0\n",
      "FPS: 0\n",
      "FPS: 0\n",
      "FPS: 0\n",
      "FPS: 0\n",
      "FPS: 0\n",
      "FPS: 0\n",
      "FPS: 0\n",
      "FPS: 0\n",
      "FPS: 0\n",
      "FPS: 0\n",
      "FPS: 0\n",
      "FPS: 0\n",
      "FPS: 0\n",
      "FPS: 0\n",
      "FPS: 0\n",
      "FPS: 0\n",
      "FPS: 0\n",
      "FPS: 0\n",
      "FPS: 0\n",
      "FPS: 0\n",
      "FPS: 0\n",
      "FPS: 0\n",
      "FPS: 0\n",
      "FPS: 0\n",
      "FPS: 0\n",
      "FPS: 0\n",
      "FPS: 0\n",
      "FPS: 0\n",
      "FPS: 0\n",
      "FPS: 0\n",
      "FPS: 0\n",
      "FPS: 0\n",
      "FPS: 0\n",
      "FPS: 0\n",
      "FPS: 0\n",
      "FPS: 0\n",
      "FPS: 0\n",
      "FPS: 0\n",
      "FPS: 0\n",
      "FPS: 0\n",
      "FPS: 0\n",
      "FPS: 0\n",
      "FPS: 0\n",
      "FPS: 0\n",
      "FPS: 0\n",
      "FPS: 0\n",
      "FPS: 0\n",
      "FPS: 0\n",
      "FPS: 0\n",
      "FPS: 0\n",
      "FPS: 0\n",
      "FPS: 0\n",
      "FPS: 0\n",
      "FPS: 0\n",
      "FPS: 0\n",
      "FPS: 0\n",
      "FPS: 0\n",
      "FPS: 0\n",
      "FPS: 0\n",
      "FPS: 0\n",
      "FPS: 0\n",
      "FPS: 0\n",
      "FPS: 0\n",
      "FPS: 0\n",
      "FPS: 0\n",
      "FPS: 0\n",
      "FPS: 0\n",
      "FPS: 0\n",
      "FPS: 0\n",
      "FPS: 0\n",
      "FPS: 0\n",
      "FPS: 0\n",
      "FPS: 0\n",
      "FPS: 0\n",
      "FPS: 0\n",
      "FPS: 0\n",
      "FPS: 0\n",
      "FPS: 0\n",
      "FPS: 0\n",
      "FPS: 0\n",
      "FPS: 0\n",
      "FPS: 0\n",
      "FPS: 0\n",
      "FPS: 0\n",
      "FPS: 0\n",
      "FPS: 0\n",
      "FPS: 0\n",
      "FPS: 0\n",
      "FPS: 0\n",
      "FPS: 0\n",
      "FPS: 0\n",
      "FPS: 0\n",
      "FPS: 0\n",
      "FPS: 0\n",
      "FPS: 0\n",
      "FPS: 0\n",
      "FPS: 0\n",
      "FPS: 0\n",
      "FPS: 0\n",
      "FPS: 0\n",
      "FPS: 0\n",
      "FPS: 0\n",
      "FPS: 0\n",
      "FPS: 0\n",
      "FPS: 0\n",
      "FPS: 0\n",
      "FPS: 0\n",
      "FPS: 0\n",
      "FPS: 0\n",
      "FPS: 0\n",
      "FPS: 0\n",
      "FPS: 0\n",
      "FPS: 0\n",
      "FPS: 0\n",
      "FPS: 0\n",
      "FPS: 0\n",
      "FPS: 0\n",
      "FPS: 0\n",
      "FPS: 0\n",
      "FPS: 0\n",
      "FPS: 0\n",
      "FPS: 0\n",
      "FPS: 0\n",
      "FPS: 0\n",
      "FPS: 0\n",
      "FPS: 0\n",
      "FPS: 0\n",
      "FPS: 0\n",
      "FPS: 0\n",
      "FPS: 0\n",
      "FPS: 0\n",
      "FPS: 0\n",
      "FPS: 0\n",
      "FPS: 0\n",
      "FPS: 0\n",
      "FPS: 0\n",
      "FPS: 0\n",
      "FPS: 0\n",
      "FPS: 0\n",
      "FPS: 0\n",
      "FPS: 0\n",
      "FPS: 0\n",
      "FPS: 0\n",
      "FPS: 0\n",
      "FPS: 0\n",
      "FPS: 0\n",
      "FPS: 0\n",
      "FPS: 0\n",
      "FPS: 0\n",
      "FPS: 0\n",
      "FPS: 0\n",
      "FPS: 0\n",
      "FPS: 0\n",
      "FPS: 0\n",
      "FPS: 0\n",
      "FPS: 0\n",
      "FPS: 0\n",
      "FPS: 0\n",
      "FPS: 0\n",
      "FPS: 0\n",
      "FPS: 0\n",
      "FPS: 0\n",
      "FPS: 0\n",
      "FPS: 0\n",
      "FPS: 0\n",
      "FPS: 0\n",
      "FPS: 0\n",
      "FPS: 0\n",
      "FPS: 0\n",
      "FPS: 0\n",
      "FPS: 0\n",
      "FPS: 0\n",
      "FPS: 0\n",
      "FPS: 0\n",
      "FPS: 0\n",
      "FPS: 0\n",
      "FPS: 0\n",
      "FPS: 0\n",
      "FPS: 0\n",
      "FPS: 0\n",
      "FPS: 0\n",
      "FPS: 0\n",
      "FPS: 0\n",
      "FPS: 0\n",
      "FPS: 0\n",
      "FPS: 0\n",
      "FPS: 0\n",
      "FPS: 0\n",
      "FPS: 0\n",
      "FPS: 0\n",
      "FPS: 0\n",
      "FPS: 0\n",
      "FPS: 0\n",
      "FPS: 0\n",
      "FPS: 0\n",
      "FPS: 0\n",
      "FPS: 0\n",
      "FPS: 0\n",
      "FPS: 0\n",
      "FPS: 0\n",
      "FPS: 0\n",
      "FPS: 0\n",
      "FPS: 0\n",
      "FPS: 0\n",
      "FPS: 0\n",
      "FPS: 0\n",
      "FPS: 0\n",
      "FPS: 0\n",
      "FPS: 0\n",
      "FPS: 0\n",
      "FPS: 0\n",
      "FPS: 0\n",
      "FPS: 0\n",
      "FPS: 0\n",
      "FPS: 0\n",
      "FPS: 0\n",
      "FPS: 0\n",
      "FPS: 0\n",
      "FPS: 0\n",
      "FPS: 0\n",
      "FPS: 0\n",
      "FPS: 0\n",
      "FPS: 0\n",
      "FPS: 0\n",
      "FPS: 0\n",
      "FPS: 0\n",
      "FPS: 0\n",
      "FPS: 0\n",
      "FPS: 0\n",
      "FPS: 0\n",
      "FPS: 0\n",
      "FPS: 0\n",
      "FPS: 0\n",
      "FPS: 0\n",
      "FPS: 0\n",
      "FPS: 0\n",
      "FPS: 0\n",
      "FPS: 0\n",
      "FPS: 0\n",
      "FPS: 0\n",
      "FPS: 0\n",
      "FPS: 0\n",
      "FPS: 0\n",
      "FPS: 0\n",
      "FPS: 0\n",
      "FPS: 0\n",
      "FPS: 0\n",
      "FPS: 0\n",
      "FPS: 0\n",
      "FPS: 0\n",
      "FPS: 0\n",
      "FPS: 0\n",
      "FPS: 0\n",
      "FPS: 0\n",
      "FPS: 0\n",
      "FPS: 0\n",
      "FPS: 0\n",
      "FPS: 0\n",
      "FPS: 0\n",
      "FPS: 0\n",
      "FPS: 0\n",
      "FPS: 0\n",
      "FPS: 0\n",
      "FPS: 0\n",
      "FPS: 0\n",
      "FPS: 0\n",
      "FPS: 0\n",
      "FPS: 0\n",
      "FPS: 0\n",
      "FPS: 0\n",
      "FPS: 0\n",
      "FPS: 0\n",
      "FPS: 0\n",
      "FPS: 0\n",
      "FPS: 0\n",
      "FPS: 0\n",
      "FPS: 0\n",
      "FPS: 0\n",
      "FPS: 0\n",
      "FPS: 0\n",
      "FPS: 0\n",
      "FPS: 0\n",
      "FPS: 0\n",
      "FPS: 0\n",
      "FPS: 0\n",
      "FPS: 0\n",
      "FPS: 0\n",
      "FPS: 0\n",
      "FPS: 0\n",
      "FPS: 0\n",
      "FPS: 0\n",
      "FPS: 0\n",
      "FPS: 0\n",
      "FPS: 0\n",
      "FPS: 0\n",
      "FPS: 0\n",
      "FPS: 0\n",
      "FPS: 0\n",
      "FPS: 0\n",
      "FPS: 0\n",
      "FPS: 0\n",
      "FPS: 0\n",
      "FPS: 0\n",
      "FPS: 0\n",
      "FPS: 0\n",
      "FPS: 0\n",
      "FPS: 0\n",
      "FPS: 0\n",
      "FPS: 0\n",
      "FPS: 0\n",
      "FPS: 0\n",
      "FPS: 0\n",
      "FPS: 0\n",
      "FPS: 0\n",
      "FPS: 0\n",
      "FPS: 0\n",
      "FPS: 0\n",
      "FPS: 0\n",
      "FPS: 0\n",
      "FPS: 0\n",
      "FPS: 0\n",
      "FPS: 0\n",
      "FPS: 0\n",
      "FPS: 0\n",
      "FPS: 0\n",
      "FPS: 0\n",
      "FPS: 0\n",
      "FPS: 0\n",
      "FPS: 0\n",
      "FPS: 0\n",
      "FPS: 0\n",
      "FPS: 0\n",
      "FPS: 0\n",
      "FPS: 0\n",
      "FPS: 0\n",
      "FPS: 0\n",
      "FPS: 0\n",
      "FPS: 0\n",
      "FPS: 0\n",
      "FPS: 0\n",
      "FPS: 0\n",
      "FPS: 0\n",
      "FPS: 0\n",
      "FPS: 0\n",
      "FPS: 0\n",
      "FPS: 0\n",
      "FPS: 0\n",
      "FPS: 0\n",
      "FPS: 0\n",
      "FPS: 0\n",
      "FPS: 0\n",
      "FPS: 0\n",
      "FPS: 0\n",
      "FPS: 0\n",
      "FPS: 0\n",
      "FPS: 0\n",
      "FPS: 0\n",
      "FPS: 0\n",
      "FPS: 0\n",
      "FPS: 0\n",
      "FPS: 0\n",
      "FPS: 0\n",
      "FPS: 0\n",
      "FPS: 0\n",
      "FPS: 0\n",
      "FPS: 0\n",
      "FPS: 0\n",
      "FPS: 0\n",
      "FPS: 0\n",
      "FPS: 0\n",
      "FPS: 0\n",
      "FPS: 0\n",
      "FPS: 0\n",
      "FPS: 0\n",
      "FPS: 0\n",
      "FPS: 0\n",
      "FPS: 0\n",
      "FPS: 0\n",
      "FPS: 0\n",
      "FPS: 0\n",
      "FPS: 0\n",
      "FPS: 0\n",
      "FPS: 0\n",
      "FPS: 0\n",
      "FPS: 0\n",
      "FPS: 0\n",
      "FPS: 0\n",
      "FPS: 0\n",
      "FPS: 0\n",
      "FPS: 0\n",
      "FPS: 0\n",
      "FPS: 0\n",
      "FPS: 0\n",
      "FPS: 0\n",
      "FPS: 0\n",
      "FPS: 0\n",
      "FPS: 0\n",
      "FPS: 0\n",
      "FPS: 0\n",
      "FPS: 0\n",
      "FPS: 0\n",
      "FPS: 0\n",
      "FPS: 0\n",
      "FPS: 0\n",
      "FPS: 0\n",
      "FPS: 0\n",
      "FPS: 0\n",
      "FPS: 0\n",
      "FPS: 0\n",
      "FPS: 0\n",
      "FPS: 0\n",
      "FPS: 0\n",
      "FPS: 0\n",
      "FPS: 0\n",
      "FPS: 0\n",
      "FPS: 0\n",
      "FPS: 0\n",
      "FPS: 0\n",
      "FPS: 0\n",
      "FPS: 0\n",
      "FPS: 0\n",
      "FPS: 0\n",
      "FPS: 0\n",
      "FPS: 0\n",
      "FPS: 0\n",
      "FPS: 0\n",
      "FPS: 0\n",
      "FPS: 0\n",
      "FPS: 0\n",
      "FPS: 0\n",
      "FPS: 0\n",
      "FPS: 0\n",
      "FPS: 0\n",
      "FPS: 0\n",
      "FPS: 0\n",
      "FPS: 0\n",
      "FPS: 0\n",
      "FPS: 0\n",
      "FPS: 0\n",
      "FPS: 0\n",
      "FPS: 0\n",
      "FPS: 0\n",
      "FPS: 0\n",
      "FPS: 0\n",
      "FPS: 0\n",
      "FPS: 0\n",
      "FPS: 0\n",
      "FPS: 0\n",
      "FPS: 0\n",
      "FPS: 0\n",
      "FPS: 0\n",
      "FPS: 0\n",
      "FPS: 0\n",
      "FPS: 0\n",
      "FPS: 0\n",
      "FPS: 0\n",
      "FPS: 0\n",
      "FPS: 0\n",
      "FPS: 0\n",
      "FPS: 0\n",
      "FPS: 0\n",
      "FPS: 0\n",
      "FPS: 0\n",
      "FPS: 0\n",
      "FPS: 0\n",
      "FPS: 0\n",
      "FPS: 0\n",
      "FPS: 0\n",
      "FPS: 0\n",
      "FPS: 0\n",
      "FPS: 0\n",
      "FPS: 0\n",
      "FPS: 157.6\n",
      "FPS: 157.6\n",
      "FPS: 157.6\n",
      "FPS: 157.6\n",
      "FPS: 157.6\n",
      "FPS: 157.6\n",
      "FPS: 157.6\n",
      "FPS: 157.6\n",
      "FPS: 157.6\n",
      "FPS: 157.6\n",
      "FPS: 157.6\n",
      "FPS: 157.6\n",
      "FPS: 157.6\n",
      "FPS: 157.6\n",
      "FPS: 157.6\n",
      "FPS: 157.6\n",
      "FPS: 157.6\n",
      "FPS: 157.6\n",
      "FPS: 157.6\n",
      "FPS: 157.6\n",
      "FPS: 157.6\n",
      "FPS: 157.6\n",
      "FPS: 157.6\n",
      "FPS: 157.6\n",
      "FPS: 157.6\n",
      "FPS: 157.6\n",
      "FPS: 157.6\n",
      "FPS: 157.6\n",
      "FPS: 157.6\n",
      "FPS: 157.6\n",
      "FPS: 157.6\n",
      "FPS: 157.6\n",
      "FPS: 157.6\n",
      "FPS: 157.6\n",
      "FPS: 157.6\n",
      "FPS: 157.6\n",
      "FPS: 157.6\n",
      "FPS: 157.6\n",
      "FPS: 157.6\n",
      "FPS: 157.6\n",
      "FPS: 157.6\n",
      "FPS: 157.6\n",
      "FPS: 157.6\n",
      "FPS: 157.6\n",
      "FPS: 157.6\n",
      "FPS: 157.6\n",
      "FPS: 157.6\n",
      "FPS: 157.6\n",
      "FPS: 157.6\n",
      "FPS: 157.6\n",
      "FPS: 157.6\n",
      "FPS: 157.6\n",
      "FPS: 157.6\n",
      "FPS: 157.6\n",
      "FPS: 157.6\n",
      "FPS: 157.6\n",
      "FPS: 157.6\n",
      "FPS: 157.6\n",
      "FPS: 157.6\n",
      "FPS: 157.6\n",
      "FPS: 157.6\n",
      "FPS: 157.6\n",
      "FPS: 157.6\n",
      "FPS: 157.6\n",
      "FPS: 157.6\n",
      "FPS: 157.6\n",
      "FPS: 157.6\n",
      "FPS: 157.6\n",
      "FPS: 157.6\n",
      "FPS: 157.6\n",
      "FPS: 157.6\n",
      "FPS: 157.6\n",
      "FPS: 157.6\n",
      "FPS: 157.6\n",
      "FPS: 157.6\n",
      "FPS: 157.6\n",
      "FPS: 157.6\n",
      "FPS: 157.6\n",
      "FPS: 157.6\n",
      "FPS: 157.6\n",
      "FPS: 157.6\n",
      "FPS: 157.6\n",
      "FPS: 157.6\n",
      "FPS: 157.6\n",
      "FPS: 157.6\n",
      "FPS: 157.6\n",
      "FPS: 157.6\n",
      "FPS: 157.6\n",
      "FPS: 157.6\n",
      "FPS: 157.6\n",
      "FPS: 157.6\n",
      "FPS: 157.6\n",
      "FPS: 157.6\n",
      "FPS: 157.6\n",
      "FPS: 157.6\n",
      "FPS: 157.6\n",
      "FPS: 157.6\n",
      "FPS: 157.6\n",
      "FPS: 157.6\n",
      "FPS: 157.6\n",
      "FPS: 157.6\n",
      "FPS: 157.6\n",
      "FPS: 157.6\n",
      "FPS: 157.6\n",
      "FPS: 157.6\n",
      "FPS: 157.6\n",
      "FPS: 157.6\n",
      "FPS: 157.6\n",
      "FPS: 157.6\n",
      "FPS: 157.6\n",
      "FPS: 157.6\n",
      "FPS: 157.6\n",
      "FPS: 157.6\n",
      "FPS: 157.6\n",
      "FPS: 157.6\n",
      "FPS: 157.6\n",
      "FPS: 157.6\n",
      "FPS: 157.6\n",
      "FPS: 157.6\n",
      "FPS: 157.6\n",
      "FPS: 157.6\n",
      "FPS: 157.6\n",
      "FPS: 157.6\n",
      "FPS: 157.6\n",
      "FPS: 157.6\n",
      "FPS: 157.6\n",
      "FPS: 157.6\n",
      "FPS: 157.6\n",
      "FPS: 157.6\n",
      "FPS: 157.6\n",
      "FPS: 157.6\n",
      "FPS: 157.6\n",
      "FPS: 157.6\n",
      "FPS: 157.6\n",
      "FPS: 157.6\n",
      "FPS: 157.6\n",
      "FPS: 157.6\n",
      "FPS: 157.6\n",
      "FPS: 157.6\n",
      "FPS: 157.6\n",
      "FPS: 157.6\n",
      "FPS: 157.6\n",
      "FPS: 157.6\n",
      "FPS: 157.6\n",
      "FPS: 157.6\n",
      "FPS: 157.6\n",
      "FPS: 157.6\n",
      "FPS: 157.6\n",
      "FPS: 157.6\n",
      "FPS: 157.6\n",
      "FPS: 157.6\n",
      "FPS: 157.6\n",
      "FPS: 157.6\n",
      "FPS: 157.6\n",
      "FPS: 157.6\n",
      "FPS: 157.6\n",
      "FPS: 157.6\n",
      "FPS: 157.6\n",
      "FPS: 157.6\n",
      "FPS: 157.6\n",
      "FPS: 157.6\n",
      "FPS: 157.6\n",
      "FPS: 157.6\n",
      "FPS: 157.6\n",
      "FPS: 157.6\n",
      "FPS: 157.6\n",
      "FPS: 157.6\n",
      "FPS: 157.6\n",
      "FPS: 157.6\n",
      "FPS: 157.6\n",
      "FPS: 157.6\n",
      "FPS: 157.6\n",
      "FPS: 157.6\n",
      "FPS: 157.6\n",
      "FPS: 157.6\n",
      "FPS: 157.6\n",
      "FPS: 157.6\n",
      "FPS: 157.6\n",
      "FPS: 157.6\n",
      "FPS: 157.6\n",
      "FPS: 157.6\n",
      "FPS: 157.6\n",
      "FPS: 157.6\n",
      "FPS: 157.6\n",
      "FPS: 157.6\n",
      "FPS: 157.6\n",
      "FPS: 157.6\n",
      "FPS: 157.6\n",
      "FPS: 157.6\n",
      "FPS: 157.6\n",
      "FPS: 157.6\n",
      "FPS: 157.6\n",
      "FPS: 157.6\n",
      "FPS: 157.6\n",
      "FPS: 157.6\n",
      "FPS: 157.6\n",
      "FPS: 157.6\n",
      "FPS: 157.6\n",
      "FPS: 157.6\n",
      "FPS: 157.6\n",
      "FPS: 157.6\n",
      "FPS: 157.6\n",
      "FPS: 157.6\n",
      "FPS: 157.6\n",
      "FPS: 157.6\n",
      "FPS: 157.6\n",
      "FPS: 157.6\n",
      "FPS: 157.6\n",
      "FPS: 157.6\n",
      "FPS: 157.6\n",
      "FPS: 157.6\n",
      "FPS: 157.6\n",
      "FPS: 157.6\n",
      "FPS: 157.6\n",
      "FPS: 157.6\n",
      "FPS: 157.6\n",
      "FPS: 157.6\n",
      "FPS: 157.6\n",
      "FPS: 157.6\n",
      "FPS: 157.6\n",
      "FPS: 157.6\n",
      "FPS: 157.6\n",
      "FPS: 157.6\n",
      "FPS: 157.6\n",
      "FPS: 157.6\n",
      "FPS: 157.6\n",
      "FPS: 157.6\n",
      "FPS: 157.6\n",
      "FPS: 157.6\n",
      "FPS: 157.6\n",
      "FPS: 157.6\n",
      "FPS: 157.6\n",
      "FPS: 157.6\n",
      "FPS: 157.6\n",
      "FPS: 157.6\n",
      "FPS: 157.6\n",
      "FPS: 157.6\n",
      "FPS: 157.6\n",
      "FPS: 157.6\n",
      "FPS: 157.6\n",
      "FPS: 157.6\n",
      "FPS: 157.6\n",
      "FPS: 157.6\n",
      "FPS: 157.6\n",
      "FPS: 157.6\n",
      "FPS: 157.6\n",
      "FPS: 157.6\n",
      "FPS: 157.6\n",
      "FPS: 157.6\n",
      "FPS: 157.6\n",
      "FPS: 157.6\n",
      "FPS: 157.6\n",
      "FPS: 157.6\n",
      "FPS: 157.6\n",
      "FPS: 157.6\n",
      "FPS: 157.6\n",
      "FPS: 157.6\n",
      "FPS: 157.6\n",
      "FPS: 157.6\n",
      "FPS: 157.6\n",
      "FPS: 157.6\n",
      "FPS: 157.6\n",
      "FPS: 157.6\n",
      "FPS: 157.6\n",
      "FPS: 157.6\n",
      "FPS: 157.6\n",
      "FPS: 157.6\n",
      "FPS: 157.6\n",
      "FPS: 157.6\n",
      "FPS: 157.6\n",
      "FPS: 157.6\n",
      "FPS: 157.6\n",
      "FPS: 157.6\n",
      "FPS: 157.6\n",
      "FPS: 157.6\n",
      "FPS: 157.6\n",
      "FPS: 157.6\n",
      "FPS: 157.6\n",
      "FPS: 157.6\n",
      "FPS: 157.6\n",
      "FPS: 157.6\n",
      "FPS: 157.6\n",
      "FPS: 157.6\n",
      "FPS: 157.6\n",
      "FPS: 157.6\n",
      "FPS: 157.6\n",
      "FPS: 157.6\n",
      "FPS: 157.6\n",
      "FPS: 157.6\n",
      "FPS: 157.6\n",
      "FPS: 157.6\n",
      "FPS: 157.6\n",
      "FPS: 157.6\n",
      "FPS: 157.6\n",
      "FPS: 157.6\n",
      "FPS: 157.6\n",
      "FPS: 157.6\n",
      "FPS: 157.6\n",
      "FPS: 157.6\n",
      "FPS: 157.6\n",
      "FPS: 157.6\n",
      "FPS: 157.6\n",
      "FPS: 157.6\n",
      "FPS: 157.6\n",
      "FPS: 157.6\n",
      "FPS: 157.6\n",
      "FPS: 157.6\n",
      "FPS: 157.6\n",
      "FPS: 157.6\n",
      "FPS: 157.6\n",
      "FPS: 157.6\n",
      "FPS: 157.6\n",
      "FPS: 157.6\n",
      "FPS: 157.6\n",
      "FPS: 157.6\n",
      "FPS: 157.6\n",
      "FPS: 157.6\n",
      "FPS: 157.6\n",
      "FPS: 157.6\n",
      "FPS: 157.6\n",
      "FPS: 157.6\n",
      "FPS: 157.6\n",
      "FPS: 157.6\n",
      "FPS: 157.6\n",
      "FPS: 157.6\n",
      "FPS: 157.6\n",
      "FPS: 157.6\n",
      "FPS: 157.6\n",
      "FPS: 157.6\n",
      "FPS: 157.6\n",
      "FPS: 157.6\n",
      "FPS: 157.6\n",
      "FPS: 157.6\n",
      "FPS: 157.6\n",
      "FPS: 157.6\n",
      "FPS: 157.6\n",
      "FPS: 157.6\n",
      "FPS: 157.6\n",
      "FPS: 157.6\n",
      "FPS: 157.6\n",
      "FPS: 157.6\n",
      "FPS: 157.6\n",
      "FPS: 157.6\n",
      "FPS: 157.6\n",
      "FPS: 157.6\n",
      "FPS: 157.6\n",
      "FPS: 157.6\n",
      "FPS: 157.6\n",
      "FPS: 157.6\n",
      "FPS: 157.6\n",
      "FPS: 157.6\n",
      "FPS: 157.6\n",
      "FPS: 157.6\n",
      "FPS: 157.6\n",
      "FPS: 157.6\n",
      "FPS: 157.6\n",
      "FPS: 157.6\n",
      "FPS: 157.6\n",
      "FPS: 157.6\n",
      "FPS: 157.6\n",
      "FPS: 157.6\n",
      "FPS: 157.6\n",
      "FPS: 157.6\n",
      "FPS: 157.6\n",
      "FPS: 157.6\n",
      "FPS: 157.6\n",
      "FPS: 157.6\n",
      "FPS: 157.6\n",
      "FPS: 157.6\n",
      "FPS: 157.6\n",
      "FPS: 157.6\n",
      "FPS: 157.6\n",
      "FPS: 157.6\n",
      "FPS: 157.6\n",
      "FPS: 157.6\n",
      "FPS: 157.6\n",
      "FPS: 157.6\n",
      "FPS: 157.6\n",
      "FPS: 157.6\n",
      "FPS: 157.6\n",
      "FPS: 157.6\n",
      "FPS: 157.6\n",
      "FPS: 157.6\n",
      "FPS: 157.6\n",
      "FPS: 157.6\n",
      "FPS: 157.6\n",
      "FPS: 157.6\n",
      "FPS: 157.6\n",
      "FPS: 157.6\n",
      "FPS: 157.6\n",
      "FPS: 157.6\n",
      "FPS: 157.6\n",
      "FPS: 157.6\n",
      "FPS: 157.6\n",
      "FPS: 157.6\n",
      "FPS: 157.6\n",
      "FPS: 157.6\n",
      "FPS: 157.6\n",
      "FPS: 157.6\n",
      "FPS: 157.6\n",
      "FPS: 157.6\n",
      "FPS: 157.6\n",
      "FPS: 157.6\n",
      "FPS: 157.6\n",
      "FPS: 157.6\n",
      "FPS: 157.6\n",
      "FPS: 157.6\n",
      "FPS: 157.6\n",
      "FPS: 157.6\n",
      "FPS: 157.6\n",
      "FPS: 157.6\n",
      "FPS: 157.6\n",
      "FPS: 157.6\n",
      "FPS: 157.6\n",
      "FPS: 157.6\n",
      "FPS: 157.6\n",
      "FPS: 157.6\n",
      "FPS: 157.6\n",
      "FPS: 157.6\n",
      "FPS: 157.6\n",
      "FPS: 157.6\n",
      "FPS: 157.6\n",
      "FPS: 157.6\n",
      "FPS: 157.6\n",
      "FPS: 157.6\n",
      "FPS: 157.6\n",
      "FPS: 157.6\n",
      "FPS: 157.6\n",
      "FPS: 157.6\n",
      "FPS: 157.6\n",
      "FPS: 157.6\n",
      "FPS: 157.6\n",
      "FPS: 157.6\n",
      "FPS: 157.6\n",
      "FPS: 157.6\n",
      "FPS: 157.6\n",
      "FPS: 157.6\n",
      "FPS: 157.6\n",
      "FPS: 157.6\n",
      "FPS: 157.6\n",
      "FPS: 157.6\n",
      "FPS: 157.6\n",
      "FPS: 157.6\n",
      "FPS: 157.6\n",
      "FPS: 157.6\n",
      "FPS: 157.6\n",
      "FPS: 157.6\n",
      "FPS: 157.6\n",
      "FPS: 157.6\n",
      "FPS: 157.6\n",
      "FPS: 157.6\n",
      "FPS: 157.6\n",
      "FPS: 157.6\n",
      "FPS: 157.6\n",
      "FPS: 157.6\n",
      "FPS: 157.6\n",
      "FPS: 157.6\n",
      "FPS: 157.6\n",
      "FPS: 157.6\n",
      "FPS: 157.6\n",
      "FPS: 157.6\n",
      "FPS: 157.6\n",
      "FPS: 157.6\n",
      "FPS: 157.6\n",
      "FPS: 157.6\n",
      "FPS: 157.6\n",
      "FPS: 157.6\n",
      "FPS: 157.6\n",
      "FPS: 157.6\n",
      "FPS: 157.6\n",
      "FPS: 157.6\n",
      "FPS: 157.6\n",
      "FPS: 157.6\n",
      "FPS: 157.6\n",
      "FPS: 157.6\n",
      "FPS: 157.6\n",
      "FPS: 157.6\n",
      "FPS: 157.6\n",
      "FPS: 157.6\n",
      "FPS: 157.6\n",
      "FPS: 157.6\n",
      "FPS: 157.6\n",
      "FPS: 157.6\n",
      "FPS: 157.6\n",
      "FPS: 157.6\n",
      "FPS: 157.6\n",
      "FPS: 157.6\n",
      "FPS: 157.6\n",
      "FPS: 157.6\n",
      "FPS: 157.6\n",
      "FPS: 157.6\n",
      "FPS: 157.6\n",
      "FPS: 157.6\n",
      "FPS: 157.6\n",
      "FPS: 157.6\n",
      "FPS: 157.6\n",
      "FPS: 157.6\n",
      "FPS: 157.6\n",
      "FPS: 157.6\n",
      "FPS: 157.6\n",
      "FPS: 157.6\n",
      "FPS: 157.6\n",
      "FPS: 157.6\n",
      "FPS: 157.6\n",
      "FPS: 157.6\n",
      "FPS: 157.6\n",
      "FPS: 157.6\n",
      "FPS: 157.6\n",
      "FPS: 157.6\n",
      "FPS: 157.6\n",
      "FPS: 157.6\n",
      "FPS: 157.6\n",
      "FPS: 157.6\n",
      "FPS: 157.6\n",
      "FPS: 157.6\n",
      "FPS: 157.6\n",
      "FPS: 157.6\n",
      "FPS: 157.6\n",
      "FPS: 157.6\n",
      "FPS: 157.6\n",
      "FPS: 157.6\n",
      "FPS: 157.6\n",
      "FPS: 157.6\n",
      "FPS: 157.6\n",
      "FPS: 157.6\n",
      "FPS: 157.6\n",
      "FPS: 157.6\n",
      "FPS: 157.6\n",
      "FPS: 157.6\n",
      "FPS: 157.6\n",
      "FPS: 157.6\n",
      "FPS: 157.6\n",
      "FPS: 157.6\n",
      "FPS: 157.6\n",
      "FPS: 157.6\n",
      "FPS: 157.6\n",
      "FPS: 157.6\n",
      "FPS: 157.6\n",
      "FPS: 157.6\n",
      "FPS: 157.6\n",
      "FPS: 157.6\n",
      "FPS: 157.6\n",
      "FPS: 157.6\n",
      "FPS: 157.6\n",
      "FPS: 157.6\n",
      "FPS: 157.6\n",
      "FPS: 157.6\n",
      "FPS: 157.6\n",
      "FPS: 157.6\n",
      "FPS: 157.6\n",
      "FPS: 157.6\n",
      "FPS: 157.6\n",
      "FPS: 157.6\n",
      "FPS: 157.6\n",
      "FPS: 157.6\n",
      "FPS: 157.6\n",
      "FPS: 157.6\n",
      "FPS: 157.6\n",
      "FPS: 157.6\n",
      "FPS: 157.6\n",
      "FPS: 157.6\n",
      "FPS: 157.6\n",
      "FPS: 157.6\n",
      "FPS: 157.6\n",
      "FPS: 157.6\n",
      "FPS: 157.6\n",
      "FPS: 157.6\n",
      "FPS: 157.6\n",
      "FPS: 157.6\n",
      "FPS: 157.6\n",
      "FPS: 157.6\n",
      "FPS: 157.6\n",
      "FPS: 157.6\n",
      "FPS: 157.6\n",
      "FPS: 157.6\n",
      "FPS: 157.6\n",
      "FPS: 157.6\n",
      "FPS: 157.6\n",
      "FPS: 157.6\n",
      "FPS: 157.6\n",
      "FPS: 157.6\n",
      "FPS: 157.6\n",
      "FPS: 157.6\n",
      "FPS: 157.6\n",
      "FPS: 157.6\n",
      "FPS: 157.6\n",
      "FPS: 157.6\n",
      "FPS: 157.6\n",
      "FPS: 157.6\n",
      "FPS: 157.6\n",
      "FPS: 157.6\n",
      "FPS: 157.6\n",
      "FPS: 157.6\n",
      "FPS: 157.6\n",
      "FPS: 157.6\n",
      "FPS: 157.6\n",
      "FPS: 157.6\n",
      "FPS: 157.6\n",
      "FPS: 157.6\n",
      "FPS: 157.6\n",
      "FPS: 157.6\n",
      "FPS: 157.6\n",
      "FPS: 157.6\n",
      "FPS: 157.6\n",
      "FPS: 157.6\n",
      "FPS: 157.6\n",
      "FPS: 157.6\n",
      "FPS: 157.6\n",
      "FPS: 157.6\n",
      "FPS: 157.6\n",
      "FPS: 157.6\n",
      "FPS: 157.6\n",
      "FPS: 157.6\n",
      "FPS: 157.6\n",
      "FPS: 157.6\n",
      "FPS: 157.6\n",
      "FPS: 157.6\n",
      "FPS: 157.6\n",
      "FPS: 157.6\n",
      "FPS: 157.6\n",
      "FPS: 157.6\n",
      "FPS: 157.6\n",
      "FPS: 157.6\n",
      "FPS: 157.6\n",
      "FPS: 157.6\n",
      "FPS: 157.6\n",
      "FPS: 157.6\n",
      "FPS: 157.6\n",
      "FPS: 157.6\n",
      "FPS: 157.6\n",
      "FPS: 157.6\n",
      "FPS: 157.6\n",
      "FPS: 157.8\n",
      "FPS: 157.8\n",
      "FPS: 157.8\n",
      "FPS: 157.8\n",
      "FPS: 157.8\n",
      "FPS: 157.8\n",
      "FPS: 157.8\n",
      "FPS: 157.8\n",
      "FPS: 157.8\n",
      "FPS: 157.8\n",
      "FPS: 157.8\n",
      "FPS: 157.8\n",
      "FPS: 157.8\n",
      "FPS: 157.8\n",
      "FPS: 157.8\n",
      "FPS: 157.8\n",
      "FPS: 157.8\n",
      "FPS: 157.8\n",
      "FPS: 157.8\n",
      "FPS: 157.8\n",
      "FPS: 157.8\n",
      "FPS: 157.8\n",
      "FPS: 157.8\n",
      "FPS: 157.8\n",
      "FPS: 157.8\n",
      "FPS: 157.8\n",
      "FPS: 157.8\n",
      "FPS: 157.8\n",
      "FPS: 157.8\n",
      "FPS: 157.8\n",
      "FPS: 157.8\n",
      "FPS: 157.8\n",
      "FPS: 157.8\n",
      "FPS: 157.8\n",
      "FPS: 157.8\n",
      "FPS: 157.8\n",
      "FPS: 157.8\n",
      "FPS: 157.8\n",
      "FPS: 157.8\n",
      "FPS: 157.8\n",
      "FPS: 157.8\n",
      "FPS: 157.8\n",
      "FPS: 157.8\n",
      "FPS: 157.8\n",
      "FPS: 157.8\n",
      "FPS: 157.8\n",
      "FPS: 157.8\n",
      "FPS: 157.8\n",
      "FPS: 157.8\n",
      "FPS: 157.8\n",
      "FPS: 157.8\n",
      "FPS: 157.8\n",
      "FPS: 157.8\n",
      "FPS: 157.8\n",
      "FPS: 157.8\n",
      "FPS: 157.8\n",
      "FPS: 157.8\n",
      "FPS: 157.8\n",
      "FPS: 157.8\n",
      "FPS: 157.8\n",
      "FPS: 157.8\n",
      "FPS: 157.8\n",
      "FPS: 157.8\n",
      "FPS: 157.8\n",
      "FPS: 157.8\n",
      "FPS: 157.8\n",
      "FPS: 157.8\n",
      "FPS: 157.8\n",
      "FPS: 157.8\n",
      "FPS: 157.8\n",
      "FPS: 157.8\n",
      "FPS: 157.8\n",
      "FPS: 157.8\n",
      "FPS: 157.8\n",
      "FPS: 157.8\n",
      "FPS: 157.8\n",
      "FPS: 157.8\n",
      "FPS: 157.8\n",
      "FPS: 157.8\n",
      "FPS: 157.8\n",
      "FPS: 157.8\n",
      "FPS: 157.8\n",
      "FPS: 157.8\n",
      "FPS: 157.8\n",
      "FPS: 157.8\n",
      "FPS: 157.8\n",
      "FPS: 157.8\n",
      "FPS: 157.8\n",
      "FPS: 157.8\n",
      "FPS: 157.8\n",
      "FPS: 157.8\n",
      "FPS: 157.8\n",
      "FPS: 157.8\n",
      "FPS: 157.8\n",
      "FPS: 157.8\n",
      "FPS: 157.8\n",
      "FPS: 157.8\n",
      "FPS: 157.8\n",
      "FPS: 157.8\n",
      "FPS: 157.8\n",
      "FPS: 157.8\n",
      "FPS: 157.8\n",
      "FPS: 157.8\n",
      "FPS: 157.8\n",
      "FPS: 157.8\n",
      "FPS: 157.8\n",
      "FPS: 157.8\n",
      "FPS: 157.8\n",
      "FPS: 157.8\n",
      "FPS: 157.8\n",
      "FPS: 157.8\n",
      "FPS: 157.8\n",
      "FPS: 157.8\n",
      "FPS: 157.8\n",
      "FPS: 157.8\n",
      "FPS: 157.8\n",
      "FPS: 157.8\n",
      "FPS: 157.8\n",
      "FPS: 157.8\n",
      "FPS: 157.8\n",
      "FPS: 157.8\n",
      "FPS: 157.8\n",
      "FPS: 157.8\n",
      "FPS: 157.8\n",
      "FPS: 157.8\n",
      "FPS: 157.8\n",
      "FPS: 157.8\n",
      "FPS: 157.8\n",
      "FPS: 157.8\n",
      "FPS: 157.8\n",
      "FPS: 157.8\n",
      "FPS: 157.8\n",
      "FPS: 157.8\n",
      "FPS: 157.8\n",
      "FPS: 157.8\n",
      "FPS: 157.8\n",
      "FPS: 157.8\n",
      "FPS: 157.8\n",
      "FPS: 157.8\n",
      "FPS: 157.8\n",
      "FPS: 157.8\n",
      "FPS: 157.8\n",
      "FPS: 157.8\n",
      "FPS: 157.8\n",
      "FPS: 157.8\n",
      "FPS: 157.8\n",
      "FPS: 157.8\n",
      "FPS: 157.8\n",
      "FPS: 157.8\n",
      "FPS: 157.8\n",
      "FPS: 157.8\n",
      "FPS: 157.8\n",
      "FPS: 157.8\n",
      "FPS: 157.8\n",
      "FPS: 157.8\n",
      "FPS: 157.8\n",
      "FPS: 157.8\n",
      "FPS: 157.8\n",
      "FPS: 157.8\n",
      "FPS: 157.8\n",
      "FPS: 157.8\n",
      "FPS: 157.8\n",
      "FPS: 157.8\n",
      "FPS: 157.8\n",
      "FPS: 157.8\n",
      "FPS: 157.8\n",
      "FPS: 157.8\n",
      "FPS: 157.8\n",
      "FPS: 157.8\n",
      "FPS: 157.8\n",
      "FPS: 157.8\n",
      "FPS: 157.8\n",
      "FPS: 157.8\n",
      "FPS: 157.8\n",
      "FPS: 157.8\n",
      "FPS: 157.8\n",
      "FPS: 157.8\n",
      "FPS: 157.8\n",
      "FPS: 157.8\n",
      "FPS: 157.8\n",
      "FPS: 157.8\n",
      "FPS: 157.8\n",
      "FPS: 157.8\n",
      "FPS: 157.8\n",
      "FPS: 157.8\n",
      "FPS: 157.8\n",
      "FPS: 157.8\n",
      "FPS: 157.8\n",
      "FPS: 157.8\n",
      "FPS: 157.8\n",
      "FPS: 157.8\n",
      "FPS: 157.8\n",
      "FPS: 157.8\n",
      "FPS: 157.8\n"
     ]
    },
    {
     "ename": "KeyboardInterrupt",
     "evalue": "",
     "output_type": "error",
     "traceback": [
      "\u001B[31m---------------------------------------------------------------------------\u001B[39m",
      "\u001B[31mKeyboardInterrupt\u001B[39m                         Traceback (most recent call last)",
      "\u001B[36mCell\u001B[39m\u001B[36m \u001B[39m\u001B[32mIn[8]\u001B[39m\u001B[32m, line 59\u001B[39m\n\u001B[32m     55\u001B[39m FPS = \u001B[32m0\u001B[39m\n\u001B[32m     57\u001B[39m \u001B[38;5;28;01mwhile\u001B[39;00m camera.IsGrabbing():\n\u001B[32m     58\u001B[39m     \u001B[38;5;66;03m# Wait for an image and then retrieve it. A timeout of 5000 ms is used.\u001B[39;00m\n\u001B[32m---> \u001B[39m\u001B[32m59\u001B[39m     grabResult = \u001B[43mcamera\u001B[49m\u001B[43m.\u001B[49m\u001B[43mRetrieveResult\u001B[49m\u001B[43m(\u001B[49m\u001B[32;43m5000\u001B[39;49m\u001B[43m,\u001B[49m\u001B[43m \u001B[49m\u001B[43mpylon\u001B[49m\u001B[43m.\u001B[49m\u001B[43mTimeoutHandling_ThrowException\u001B[49m\u001B[43m)\u001B[49m\n\u001B[32m     61\u001B[39m     \u001B[38;5;66;03m# Image grabbed successfully?\u001B[39;00m\n\u001B[32m     62\u001B[39m     \u001B[38;5;28;01mif\u001B[39;00m grabResult.GrabSucceeded():\n\u001B[32m     63\u001B[39m         \u001B[38;5;66;03m# Access the image data.\u001B[39;00m\n\u001B[32m     64\u001B[39m         \u001B[38;5;66;03m# print(\"SizeX: \", grabResult.Width)\u001B[39;00m\n\u001B[32m     65\u001B[39m         \u001B[38;5;66;03m# print(\"SizeY: \", grabResult.Height)\u001B[39;00m\n",
      "\u001B[36mFile \u001B[39m\u001B[32m~\\source\\repos\\thesis-insect-monitoring\\.venv\\Lib\\site-packages\\pypylon\\pylon.py:3615\u001B[39m, in \u001B[36mInstantCamera.RetrieveResult\u001B[39m\u001B[34m(self, *args)\u001B[39m\n\u001B[32m   3550\u001B[39m \u001B[38;5;28;01mdef\u001B[39;00m\u001B[38;5;250m \u001B[39m\u001B[34mRetrieveResult\u001B[39m(\u001B[38;5;28mself\u001B[39m, *args):\n\u001B[32m   3551\u001B[39m \u001B[38;5;250m    \u001B[39m\u001B[33mr\u001B[39m\u001B[33;03m\"\"\"\u001B[39;00m\n\u001B[32m   3552\u001B[39m \n\u001B[32m   3553\u001B[39m \n\u001B[32m   (...)\u001B[39m\u001B[32m   3613\u001B[39m \n\u001B[32m   3614\u001B[39m \u001B[33;03m    \"\"\"\u001B[39;00m\n\u001B[32m-> \u001B[39m\u001B[32m3615\u001B[39m     \u001B[38;5;28;01mreturn\u001B[39;00m \u001B[43m_pylon\u001B[49m\u001B[43m.\u001B[49m\u001B[43mInstantCamera_RetrieveResult\u001B[49m\u001B[43m(\u001B[49m\u001B[38;5;28;43mself\u001B[39;49m\u001B[43m,\u001B[49m\u001B[43m \u001B[49m\u001B[43m*\u001B[49m\u001B[43margs\u001B[49m\u001B[43m)\u001B[49m\n",
      "\u001B[36mFile \u001B[39m\u001B[32m~\\source\\repos\\thesis-insect-monitoring\\.venv\\Lib\\site-packages\\pypylon\\pylon.py:2313\u001B[39m, in \u001B[36mGrabResult.__setattr__\u001B[39m\u001B[34m(self, attribute, val)\u001B[39m\n\u001B[32m   2310\u001B[39m \u001B[38;5;66;03m# Nothing found -> Raise AttributeError\u001B[39;00m\n\u001B[32m   2311\u001B[39m     \u001B[38;5;28;01mraise\u001B[39;00m \u001B[38;5;167;01mAttributeError\u001B[39;00m(\u001B[33m\"\u001B[39m\u001B[33mno attribute \u001B[39m\u001B[33m'\u001B[39m\u001B[38;5;132;01m%s\u001B[39;00m\u001B[33m'\u001B[39m\u001B[33m in GrabResult\u001B[39m\u001B[33m\"\u001B[39m % attribute)\n\u001B[32m-> \u001B[39m\u001B[32m2313\u001B[39m \u001B[38;5;28;01mdef\u001B[39;00m\u001B[38;5;250m \u001B[39m\u001B[34m__setattr__\u001B[39m(\u001B[38;5;28mself\u001B[39m, attribute, val):\n\u001B[32m   2314\u001B[39m \u001B[38;5;66;03m# Check \"normal\" attributes first\u001B[39;00m\n\u001B[32m   2315\u001B[39m     \u001B[38;5;28;01mif\u001B[39;00m attribute \u001B[38;5;129;01min\u001B[39;00m \u001B[38;5;28mself\u001B[39m.\u001B[34m__dict__\u001B[39m \u001B[38;5;129;01mor\u001B[39;00m attribute \u001B[38;5;129;01min\u001B[39;00m (\u001B[33m\"\u001B[39m\u001B[33mthisown\u001B[39m\u001B[33m\"\u001B[39m, \u001B[33m\"\u001B[39m\u001B[33mthis\u001B[39m\u001B[33m\"\u001B[39m) \u001B[38;5;129;01mor\u001B[39;00m attribute.startswith(\u001B[33m\"\u001B[39m\u001B[33m__\u001B[39m\u001B[33m\"\u001B[39m):\n\u001B[32m   2316\u001B[39m         \u001B[38;5;28mobject\u001B[39m.\u001B[34m__setattr__\u001B[39m(\u001B[38;5;28mself\u001B[39m, attribute, val)\n",
      "\u001B[31mKeyboardInterrupt\u001B[39m: "
     ]
    }
   ],
   "execution_count": 8
  },
  {
   "cell_type": "markdown",
   "id": "stylish-terry",
   "metadata": {},
   "source": [
    "# Features and their available attributes and functions\n",
    "\n",
    "pylon / genicam features are of the types:\n",
    "\n",
    "* Float\n",
    "* Integer\n",
    "* Bool\n",
    "* Command\n",
    "* String\n",
    "\n",
    "If there are multiple instances of a features e.g. TriggerSource for each possible Trigger on a device e.g. FrameStart/LineStart/FrameBurst ....:\n",
    "* Selectors are used to first select the instance e.g. FrameStart and then write to the feature\n"
   ]
  },
  {
   "cell_type": "code",
   "id": "individual-redhead",
   "metadata": {
    "ExecuteTime": {
     "end_time": "2025-08-13T09:06:48.330593Z",
     "start_time": "2025-08-13T09:06:48.328093Z"
    }
   },
   "source": [
    "# Float\n",
    "# the node\n",
    "cam.Gain"
   ],
   "outputs": [
    {
     "data": {
      "text/plain": [
       "<pypylon.genicam.IFloat; proxy of <Swig Object of type 'GENAPI_NAMESPACE::IFloat *' at 0x000002E85E157090> >"
      ]
     },
     "execution_count": 68,
     "metadata": {},
     "output_type": "execute_result"
    }
   ],
   "execution_count": 68
  },
  {
   "cell_type": "code",
   "id": "olympic-absolute",
   "metadata": {
    "ExecuteTime": {
     "end_time": "2025-08-13T09:06:48.650799Z",
     "start_time": "2025-08-13T09:06:48.646749Z"
    }
   },
   "source": [
    "# Float \n",
    "# the value\n",
    "cam.Gain.GetValue()"
   ],
   "outputs": [
    {
     "data": {
      "text/plain": [
       "0.0"
      ]
     },
     "execution_count": 69,
     "metadata": {},
     "output_type": "execute_result"
    }
   ],
   "execution_count": 69
  },
  {
   "cell_type": "code",
   "id": "effective-bangladesh",
   "metadata": {
    "ExecuteTime": {
     "end_time": "2025-08-13T09:06:48.889119Z",
     "start_time": "2025-08-13T09:06:48.885508Z"
    }
   },
   "source": [
    "# abbrev get value\n",
    "cam.Gain.Value"
   ],
   "outputs": [
    {
     "data": {
      "text/plain": [
       "0.0"
      ]
     },
     "execution_count": 70,
     "metadata": {},
     "output_type": "execute_result"
    }
   ],
   "execution_count": 70
  },
  {
   "cell_type": "code",
   "id": "dramatic-domestic",
   "metadata": {
    "ExecuteTime": {
     "end_time": "2025-08-13T09:06:49.167618Z",
     "start_time": "2025-08-13T09:06:49.164610Z"
    }
   },
   "source": [
    "# set the value\n",
    "cam.Gain.SetValue(15)"
   ],
   "outputs": [],
   "execution_count": 71
  },
  {
   "cell_type": "code",
   "id": "french-bacon",
   "metadata": {
    "ExecuteTime": {
     "end_time": "2025-08-13T09:06:49.474361Z",
     "start_time": "2025-08-13T09:06:49.471508Z"
    }
   },
   "source": [
    "# abbrev set value\n",
    "cam.Gain = 12.1"
   ],
   "outputs": [
    {
     "name": "stderr",
     "output_type": "stream",
     "text": [
      "C:\\Users\\Bas_K\\AppData\\Local\\Temp\\ipykernel_32288\\1565815661.py:2: DeprecationWarning: Setting a feature value by direct assignment is deprecated. Use <nodemap>.Gain.Value = 12.1\n",
      "  cam.Gain = 12.1\n"
     ]
    }
   ],
   "execution_count": 72
  },
  {
   "cell_type": "code",
   "id": "driving-break",
   "metadata": {
    "ExecuteTime": {
     "end_time": "2025-08-13T09:06:49.826641Z",
     "start_time": "2025-08-13T09:06:49.823081Z"
    }
   },
   "source": [
    "# the value has been updated\n",
    "cam.Gain.Value"
   ],
   "outputs": [
    {
     "data": {
      "text/plain": [
       "12.100011992063852"
      ]
     },
     "execution_count": 73,
     "metadata": {},
     "output_type": "execute_result"
    }
   ],
   "execution_count": 73
  },
  {
   "cell_type": "code",
   "id": "naked-variable",
   "metadata": {
    "ExecuteTime": {
     "end_time": "2025-08-13T09:06:50.274904Z",
     "start_time": "2025-08-13T09:06:50.271897Z"
    }
   },
   "source": [
    "cam.Gain = 20"
   ],
   "outputs": [
    {
     "name": "stderr",
     "output_type": "stream",
     "text": [
      "C:\\Users\\Bas_K\\AppData\\Local\\Temp\\ipykernel_32288\\4163969725.py:1: DeprecationWarning: Setting a feature value by direct assignment is deprecated. Use <nodemap>.Gain.Value = 20\n",
      "  cam.Gain = 20\n"
     ]
    }
   ],
   "execution_count": 74
  },
  {
   "cell_type": "code",
   "id": "changing-priest",
   "metadata": {
    "ExecuteTime": {
     "end_time": "2025-08-13T09:06:50.833366Z",
     "start_time": "2025-08-13T09:06:50.830359Z"
    }
   },
   "source": [
    "# Enumeration ... all values:\n",
    "cam.TriggerSelector.Symbolics"
   ],
   "outputs": [
    {
     "data": {
      "text/plain": [
       "('FrameBurstStart',\n",
       " 'FrameBurstEnd',\n",
       " 'FrameBurstActive',\n",
       " 'FrameStart',\n",
       " 'FrameEnd',\n",
       " 'FrameActive',\n",
       " 'ExposureStart',\n",
       " 'ExposureEnd',\n",
       " 'ExposureActive')"
      ]
     },
     "execution_count": 75,
     "metadata": {},
     "output_type": "execute_result"
    }
   ],
   "execution_count": 75
  },
  {
   "cell_type": "code",
   "id": "celtic-enlargement",
   "metadata": {
    "ExecuteTime": {
     "end_time": "2025-08-13T09:06:51.433226Z",
     "start_time": "2025-08-13T09:06:51.430721Z"
    }
   },
   "source": [
    "# set the value\n",
    "cam.TriggerSelector = \"FrameStart\"\n",
    "cam.LineSelector.SetValue(\"Line2\")"
   ],
   "outputs": [
    {
     "name": "stderr",
     "output_type": "stream",
     "text": [
      "C:\\Users\\Bas_K\\AppData\\Local\\Temp\\ipykernel_32288\\2183857246.py:2: DeprecationWarning: Setting a feature value by direct assignment is deprecated. Use <nodemap>.TriggerSelector.Value = FrameStart\n",
      "  cam.TriggerSelector = \"FrameStart\"\n"
     ]
    }
   ],
   "execution_count": 76
  },
  {
   "cell_type": "code",
   "id": "recent-violence",
   "metadata": {
    "ExecuteTime": {
     "end_time": "2025-08-13T09:06:51.899400Z",
     "start_time": "2025-08-13T09:06:51.895613Z"
    }
   },
   "source": [
    "# selector handling:\n",
    "# first set selector than the dependent value:\n",
    "cam.TriggerSelector = \"FrameStart\"\n",
    "cam.TriggerSource = \"Line1\""
   ],
   "outputs": [
    {
     "name": "stderr",
     "output_type": "stream",
     "text": [
      "C:\\Users\\Bas_K\\AppData\\Local\\Temp\\ipykernel_32288\\2032084399.py:3: DeprecationWarning: Setting a feature value by direct assignment is deprecated. Use <nodemap>.TriggerSelector.Value = FrameStart\n",
      "  cam.TriggerSelector = \"FrameStart\"\n",
      "C:\\Users\\Bas_K\\AppData\\Local\\Temp\\ipykernel_32288\\2032084399.py:4: DeprecationWarning: Setting a feature value by direct assignment is deprecated. Use <nodemap>.TriggerSource.Value = Line1\n",
      "  cam.TriggerSource = \"Line1\"\n"
     ]
    }
   ],
   "execution_count": 77
  },
  {
   "cell_type": "code",
   "id": "marked-roads",
   "metadata": {
    "ExecuteTime": {
     "end_time": "2025-08-13T09:06:52.457307Z",
     "start_time": "2025-08-13T09:06:52.374693Z"
    }
   },
   "source": [
    "# reset to power on defaults\n",
    "cam.UserSetSelector = cam.UserSetDefault.Value\n",
    "cam.UserSetLoad.Execute()"
   ],
   "outputs": [
    {
     "name": "stderr",
     "output_type": "stream",
     "text": [
      "C:\\Users\\Bas_K\\AppData\\Local\\Temp\\ipykernel_32288\\118905204.py:2: DeprecationWarning: Setting a feature value by direct assignment is deprecated. Use <nodemap>.UserSetSelector.Value = Default\n",
      "  cam.UserSetSelector = cam.UserSetDefault.Value\n"
     ]
    }
   ],
   "execution_count": 78
  },
  {
   "cell_type": "code",
   "id": "adult-coffee",
   "metadata": {
    "ExecuteTime": {
     "end_time": "2025-08-13T09:06:53.617386Z",
     "start_time": "2025-08-13T09:06:53.605943Z"
    }
   },
   "source": [
    "cam.PixelFormat.Symbolics"
   ],
   "outputs": [
    {
     "data": {
      "text/plain": [
       "('Mono8',\n",
       " 'Mono10',\n",
       " 'Mono10p',\n",
       " 'Mono12',\n",
       " 'Mono12p',\n",
       " 'RGB8',\n",
       " 'BGR8',\n",
       " 'YCbCr422_8',\n",
       " 'BayerRG8',\n",
       " 'BayerRG10',\n",
       " 'BayerRG10p',\n",
       " 'BayerRG12',\n",
       " 'BayerRG12p')"
      ]
     },
     "execution_count": 79,
     "metadata": {},
     "output_type": "execute_result"
    }
   ],
   "execution_count": 79
  },
  {
   "cell_type": "code",
   "id": "common-rings",
   "metadata": {
    "ExecuteTime": {
     "end_time": "2025-08-25T13:17:22.426767Z",
     "start_time": "2025-08-25T13:17:22.337425Z"
    }
   },
   "source": [
    "cam.PixelFormat = \"RGB8\"\n",
    "# like above, alternative is the long form\n",
    "cam.PixelFormat.SetValue(\"RGB8\")"
   ],
   "outputs": [
    {
     "name": "stderr",
     "output_type": "stream",
     "text": [
      "C:\\Users\\Bas_K\\AppData\\Local\\Temp\\ipykernel_34696\\2693186627.py:1: DeprecationWarning: Setting a feature value by direct assignment is deprecated. Use <nodemap>.PixelFormat.Value = RGB8\n",
      "  cam.PixelFormat = \"RGB8\"\n"
     ]
    }
   ],
   "execution_count": 495
  },
  {
   "cell_type": "code",
   "id": "floating-indianapolis",
   "metadata": {
    "ExecuteTime": {
     "end_time": "2025-08-25T13:17:22.775926Z",
     "start_time": "2025-08-25T13:17:22.720289Z"
    }
   },
   "source": [
    "# grab one image with a timeout of 1s\n",
    "# returns a GrabResult, which is the image plus metadata\n",
    "res = cam.GrabOne(1000)"
   ],
   "outputs": [],
   "execution_count": 496
  },
  {
   "cell_type": "code",
   "id": "mounted-academy",
   "metadata": {
    "ExecuteTime": {
     "end_time": "2025-08-25T13:17:23.926420Z",
     "start_time": "2025-08-25T13:17:23.921321Z"
    }
   },
   "source": [
    "# the raw memory of the image\n",
    "res.GetBuffer()[:100]"
   ],
   "outputs": [
    {
     "data": {
      "text/plain": [
       "bytearray(b'2-\\x18(*\\x19,)\\x15/\\'\\x120)\\x181*\\x1b.&\\x1a$!\\x16\\'$\\x19-*\\x1c4-\\x1b5\\'\\x056+\\x12:/\\x197,\\x13.\\'\\x12!\\x1e\\x0f\\x1b\\x17\\x00\"\\x1f\\x00\\'\"\\x00*$\\t+\"\\x07(\"\\x08\"!\\x05\\x1f\\x1f\\x04\\x1d\\x19\\x04\\x1e\\x19\\x0e\\x1e\\x17\\x0f!\\x19\\x0c%\\x1f\\x0c.\\'\\x11*#\\x15!\\x13\\x14&')"
      ]
     },
     "execution_count": 497,
     "metadata": {},
     "output_type": "execute_result"
    }
   ],
   "execution_count": 497
  },
  {
   "cell_type": "markdown",
   "id": "packed-competition",
   "metadata": {},
   "source": [
    "# automatic conversion to ndarray with the Array call"
   ]
  },
  {
   "cell_type": "code",
   "id": "satellite-current",
   "metadata": {
    "ExecuteTime": {
     "end_time": "2025-08-25T13:17:24.773446Z",
     "start_time": "2025-08-25T13:17:24.769012Z"
    }
   },
   "source": [
    "# full method call\n",
    "img = res.GetArray()\n",
    "# abbrev\n",
    "img = res.Array"
   ],
   "outputs": [],
   "execution_count": 498
  },
  {
   "metadata": {
    "ExecuteTime": {
     "end_time": "2025-08-25T13:17:25.314423Z",
     "start_time": "2025-08-25T13:17:25.310435Z"
    }
   },
   "cell_type": "code",
   "source": "res.GetArray().shape",
   "id": "18093024a880feab",
   "outputs": [
    {
     "data": {
      "text/plain": [
       "(1200, 1920, 3)"
      ]
     },
     "execution_count": 499,
     "metadata": {},
     "output_type": "execute_result"
    }
   ],
   "execution_count": 499
  },
  {
   "cell_type": "code",
   "id": "apparent-execution",
   "metadata": {
    "ExecuteTime": {
     "end_time": "2025-08-25T13:17:25.540553Z",
     "start_time": "2025-08-25T13:17:25.537772Z"
    }
   },
   "source": [
    "img.shape"
   ],
   "outputs": [
    {
     "data": {
      "text/plain": [
       "(1200, 1920, 3)"
      ]
     },
     "execution_count": 500,
     "metadata": {},
     "output_type": "execute_result"
    }
   ],
   "execution_count": 500
  },
  {
   "cell_type": "code",
   "id": "joint-performer",
   "metadata": {
    "ExecuteTime": {
     "end_time": "2025-08-25T13:17:28.998444Z",
     "start_time": "2025-08-25T13:17:28.864347Z"
    }
   },
   "source": [
    "plt.imshow(img)"
   ],
   "outputs": [
    {
     "data": {
      "text/plain": [
       "<matplotlib.image.AxesImage at 0x2c2c8922270>"
      ]
     },
     "execution_count": 502,
     "metadata": {},
     "output_type": "execute_result"
    },
    {
     "data": {
      "text/plain": [
       "<Figure size 640x480 with 1 Axes>"
      ],
      "image/png": "[encoded data removed]"
     },
     "metadata": {},
     "output_type": "display_data"
    }
   ],
   "execution_count": 502
  },
  {
   "cell_type": "code",
   "id": "miniature-wages",
   "metadata": {
    "ExecuteTime": {
     "end_time": "2025-08-12T16:07:07.255014Z",
     "start_time": "2025-08-12T16:07:07.203604Z"
    }
   },
   "source": [
    "plt.plot(img[1000,:])"
   ],
   "outputs": [
    {
     "data": {
      "text/plain": [
       "[<matplotlib.lines.Line2D at 0x184e8026de0>,\n",
       " <matplotlib.lines.Line2D at 0x184e8026e10>,\n",
       " <matplotlib.lines.Line2D at 0x184e8026f30>]"
      ]
     },
     "execution_count": 30,
     "metadata": {},
     "output_type": "execute_result"
    },
    {
     "data": {
      "text/plain": [
       "<Figure size 640x480 with 1 Axes>"
      ],
      "image/png": "[encoded data removed]"
     },
     "metadata": {},
     "output_type": "display_data"
    }
   ],
   "execution_count": 30
  },
  {
   "cell_type": "code",
   "id": "demonstrated-chase",
   "metadata": {
    "ExecuteTime": {
     "end_time": "2025-08-27T18:13:32.843881Z",
     "start_time": "2025-08-27T18:13:32.840876Z"
    }
   },
   "source": [
    "cam.Close()"
   ],
   "outputs": [],
   "execution_count": 17
  },
  {
   "cell_type": "code",
   "id": "historic-member",
   "metadata": {
    "ExecuteTime": {
     "end_time": "2025-08-12T16:08:44.558925Z",
     "start_time": "2025-08-12T16:08:44.555655Z"
    }
   },
   "source": "img[1000,:].shape",
   "outputs": [
    {
     "data": {
      "text/plain": [
       "(1920, 3)"
      ]
     },
     "execution_count": 37,
     "metadata": {},
     "output_type": "execute_result"
    }
   ],
   "execution_count": 37
  }
 ],
 "metadata": {
  "kernelspec": {
   "display_name": "Python 3",
   "language": "python",
   "name": "python3"
  },
  "language_info": {
   "codemirror_mode": {
    "name": "ipython",
    "version": 3
   },
   "file_extension": ".py",
   "mimetype": "text/x-python",
   "name": "python",
   "nbconvert_exporter": "python",
   "pygments_lexer": "ipython3",
   "version": "3.8.7"
  }
 },
 "nbformat": 4,
 "nbformat_minor": 5
}
