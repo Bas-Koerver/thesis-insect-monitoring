{
 "cells": [
  {
   "cell_type": "code",
   "id": "initial_id",
   "metadata": {
    "collapsed": true,
    "ExecuteTime": {
     "end_time": "2025-09-09T11:48:34.263177Z",
     "start_time": "2025-09-09T11:48:34.260283Z"
    }
   },
   "source": [
    "import glob\n",
    "import pathlib\n",
    "import re\n",
    "import pandas as pd\n",
    "import numpy as np\n",
    "import h5py\n",
    "import cv2"
   ],
   "outputs": [],
   "execution_count": 45
  },
  {
   "metadata": {
    "ExecuteTime": {
     "end_time": "2025-09-09T08:14:40.717912Z",
     "start_time": "2025-09-09T08:14:40.706743Z"
    }
   },
   "cell_type": "code",
   "source": "bounding_box_df = pd.read_csv(\"datasets/wacv2024_ictrap_dataset/3_m-h-h_annotation.csv\")",
   "id": "c9d3dfa6159091c9",
   "outputs": [],
   "execution_count": 19
  },
  {
   "metadata": {
    "ExecuteTime": {
     "end_time": "2025-09-09T08:14:46.008201Z",
     "start_time": "2025-09-09T08:14:46.003351Z"
    }
   },
   "cell_type": "code",
   "source": "bounding_box_df.info()",
   "id": "df247613ebb89436",
   "outputs": [
    {
     "name": "stdout",
     "output_type": "stream",
     "text": [
      "<class 'pandas.core.frame.DataFrame'>\n",
      "RangeIndex: 15052 entries, 0 to 15051\n",
      "Data columns (total 10 columns):\n",
      " #   Column       Non-Null Count  Dtype  \n",
      "---  ------       --------------  -----  \n",
      " 0   frame_index  15052 non-null  int64  \n",
      " 1   is_keyframe  15052 non-null  bool   \n",
      " 2   class        15052 non-null  object \n",
      " 3   confidence   15052 non-null  object \n",
      " 4   left         15052 non-null  float64\n",
      " 5   top          15052 non-null  float64\n",
      " 6   width        15052 non-null  float64\n",
      " 7   height       15052 non-null  float64\n",
      " 8   center_x     15052 non-null  float64\n",
      " 9   center_y     15052 non-null  float64\n",
      "dtypes: bool(1), float64(6), int64(1), object(2)\n",
      "memory usage: 1.0+ MB\n"
     ]
    }
   ],
   "execution_count": 21
  },
  {
   "metadata": {
    "ExecuteTime": {
     "end_time": "2025-09-09T08:14:46.397737Z",
     "start_time": "2025-09-09T08:14:46.395044Z"
    }
   },
   "cell_type": "code",
   "source": [
    "point_cloud_dir = \"datasets/insect_combined/full_trajectories/mu-3/\"\n",
    "point_cloud_dir = pathlib.Path(point_cloud_dir).as_posix()"
   ],
   "id": "21252bdc0bef37b2",
   "outputs": [],
   "execution_count": 22
  },
  {
   "metadata": {
    "ExecuteTime": {
     "end_time": "2025-09-09T08:14:46.751195Z",
     "start_time": "2025-09-09T08:14:46.748693Z"
    }
   },
   "cell_type": "code",
   "source": "point_clouds = glob.glob(f\"{point_cloud_dir}/*.csv\")",
   "id": "76d571218d9f007",
   "outputs": [],
   "execution_count": 23
  },
  {
   "metadata": {
    "ExecuteTime": {
     "end_time": "2025-09-09T08:14:47.109900Z",
     "start_time": "2025-09-09T08:14:47.106897Z"
    }
   },
   "cell_type": "code",
   "source": [
    "# Add the end time to the filename if not already present.\n",
    "# This makes it easier to skip point clouds that lay outside a frame time.\n",
    "\n",
    "regex = re.compile(r\"\\d+\")\n",
    "\n",
    "for point_cloud in point_clouds:\n",
    "    if not \"end\" in point_cloud:\n",
    "        df = pd.read_csv(point_cloud)\n",
    "        start = int(regex.findall(point_cloud)[-1])\n",
    "        end = start + df.loc[:, 't'].max()\n",
    "\n",
    "        file = pathlib.Path(point_cloud)\n",
    "        file.rename(file.with_name(file.stem + f\"_end{end}.csv\"))\n",
    "\n",
    "point_clouds = glob.glob(f\"{point_cloud_dir}/*.csv\")"
   ],
   "id": "82ee5d1aba509798",
   "outputs": [],
   "execution_count": 24
  },
  {
   "metadata": {
    "ExecuteTime": {
     "end_time": "2025-09-09T08:21:02.943343Z",
     "start_time": "2025-09-09T08:14:47.484953Z"
    }
   },
   "cell_type": "code",
   "source": [
    "# create list with unique frame indices.\n",
    "frames_with_bbs = bounding_box_df.loc[:, 'frame_index'].unique()\n",
    "regex = re.compile(r\"\\d+\")\n",
    "consolidated_dict = []\n",
    "\n",
    "# Open HDF5 file containing the external triggers and the corresponding frames.\n",
    "with h5py.File(\"./datasets/wacv2024_ictrap_dataset/3_m-h-h.h5\", \"r\") as f:\n",
    "    ext_triggers_negative = f['EXTERNAL_TRIGGERS']['corrected_negative']\n",
    "    ext_triggers_positive = f['EXTERNAL_TRIGGERS']['corrected_positive']\n",
    "\n",
    "    for frame_number in frames_with_bbs:\n",
    "        start_exposure = ext_triggers_negative[ext_triggers_negative['f'] == frame_number]['t']\n",
    "        end_exposure = ext_triggers_positive[ext_triggers_positive['f'] == frame_number]['t']\n",
    "\n",
    "        df = bounding_box_df.loc[bounding_box_df['frame_index'] == frame_number]\n",
    "        df_dict = df.to_dict(orient='records')\n",
    "\n",
    "        if start_exposure.size == 0 or end_exposure.size == 0:\n",
    "            df_dict[i]['class'] = \"no class\"\n",
    "            consolidated_dict.append(df_dict[i])\n",
    "            continue\n",
    "\n",
    "        # Load the start and end exposure time for the current frame.\n",
    "        start_exposure = start_exposure.item()\n",
    "        end_exposure = end_exposure.item()\n",
    "        # create a separate dataframe for the current frame.\n",
    "        df = bounding_box_df.loc[bounding_box_df['frame_index'] == frame_number]\n",
    "        df_dict = df.to_dict(orient='records')\n",
    "\n",
    "        # Dictionary to store bounding boxe hits in\n",
    "        bb_match_dict = {}\n",
    "\n",
    "        x0 = df['left'].to_numpy()\n",
    "        y0 = df['top'].to_numpy()\n",
    "        x1 = x0 + df['width'].to_numpy()\n",
    "        y1 = y0 + df['height'].to_numpy()\n",
    "\n",
    "        for point_cloud in point_clouds:\n",
    "            start = int(regex.findall(point_cloud)[-2])\n",
    "            end = int(regex.findall(point_cloud)[-1])\n",
    "\n",
    "            if not (start_exposure > end or end_exposure < start):\n",
    "                points = pd.read_csv(point_cloud)\n",
    "\n",
    "                # Only take points that fall inside the exposure time of the selected frame\n",
    "                points = points[((points['t'] + start) >= start_exposure) & ((points['t'] + start) <= end_exposure)]\n",
    "\n",
    "                # Extract the x and y coordinate columns\n",
    "                points = points.loc[:, ['x', 'y']].to_numpy()\n",
    "                if points.size == 0:\n",
    "                    continue\n",
    "                # Create an array for the x and y coordinates in shape of (n,1)\n",
    "                points_x = points[:, 0][:, None]\n",
    "                points_y = points[:, 1][:, None]\n",
    "\n",
    "                matches = pd.DataFrame((points_x >= x0) & (points_x <= x1) & (points_y >= y0) & (points_y <= y1))\n",
    "                matches = matches.apply(pd.Series.value_counts)\n",
    "                bb_match_dict[point_cloud] = matches.replace(np.nan, 0)\n",
    "\n",
    "        for i in range(len(df.index)):\n",
    "            counter = [\"\", 0]\n",
    "            for key, value in bb_match_dict.items():\n",
    "                if True in value[i] and int(value[i][True]) > counter[1]:\n",
    "                    counter[0] = key\n",
    "                    counter[1] = value[i][True]\n",
    "\n",
    "            # Correct the class to the correct insect\n",
    "            if not counter[0]:\n",
    "                df_dict[i]['class'] = \"no class\"\n",
    "            else:\n",
    "                df_dict[i]['class'] = counter[0].split(\"_\")[-4]\n",
    "            consolidated_dict.append(df_dict[i])\n",
    "\n"
   ],
   "id": "d0bfccc6bcbac88e",
   "outputs": [],
   "execution_count": 25
  },
  {
   "metadata": {
    "ExecuteTime": {
     "end_time": "2025-09-09T08:21:03.112443Z",
     "start_time": "2025-09-09T08:21:03.045835Z"
    }
   },
   "cell_type": "code",
   "source": [
    "consolidated_df = pd.DataFrame(consolidated_dict)\n",
    "consolidated_df.to_csv(\"./datasets/consolidated_data.csv\", index=False)"
   ],
   "id": "d755717fe31e3e3e",
   "outputs": [],
   "execution_count": 26
  },
  {
   "metadata": {
    "ExecuteTime": {
     "end_time": "2025-09-09T09:49:27.321463Z",
     "start_time": "2025-09-09T09:49:27.316460Z"
    }
   },
   "cell_type": "code",
   "source": "consolidated_df.loc[:, 'class'].value_counts()",
   "id": "f9b51634b2602a75",
   "outputs": [
    {
     "data": {
      "text/plain": [
       "class\n",
       "bee         11379\n",
       "no class     2862\n",
       "ins           810\n",
       "Name: count, dtype: int64"
      ]
     },
     "execution_count": 35,
     "metadata": {},
     "output_type": "execute_result"
    }
   ],
   "execution_count": 35
  },
  {
   "metadata": {
    "ExecuteTime": {
     "end_time": "2025-09-09T09:51:02.284830Z",
     "start_time": "2025-09-09T09:51:02.278988Z"
    }
   },
   "cell_type": "code",
   "source": "consolidated_df[consolidated_df['is_keyframe'] == True].loc[:, 'class'].value_counts()",
   "id": "996b55325e3c37cf",
   "outputs": [
    {
     "data": {
      "text/plain": [
       "class\n",
       "bee         3172\n",
       "ins          530\n",
       "no class      33\n",
       "Name: count, dtype: int64"
      ]
     },
     "execution_count": 41,
     "metadata": {},
     "output_type": "execute_result"
    }
   ],
   "execution_count": 41
  },
  {
   "metadata": {
    "jupyter": {
     "is_executing": true
    },
    "ExecuteTime": {
     "start_time": "2025-09-09T11:52:40.794317Z"
    }
   },
   "cell_type": "code",
   "source": [
    "vidcap = cv2.VideoCapture(\"./datasets/wacv2024_ictrap_dataset/3_m-h-h_dvs.mp4\")\n",
    "success,image = vidcap.read()\n",
    "count = 0\n",
    "\n",
    "while success:\n",
    "    cv2.imwrite(f\"./datasets/insects/frame{count}.jpg\", image)\n",
    "    success,image = vidcap.read()\n",
    "    count += 1\n"
   ],
   "id": "549d2441cfbb536b",
   "outputs": [],
   "execution_count": null
  }
 ],
 "metadata": {
  "kernelspec": {
   "display_name": "Python 3",
   "language": "python",
   "name": "python3"
  },
  "language_info": {
   "codemirror_mode": {
    "name": "ipython",
    "version": 2
   },
   "file_extension": ".py",
   "mimetype": "text/x-python",
   "name": "python",
   "nbconvert_exporter": "python",
   "pygments_lexer": "ipython2",
   "version": "2.7.6"
  }
 },
 "nbformat": 4,
 "nbformat_minor": 5
}
